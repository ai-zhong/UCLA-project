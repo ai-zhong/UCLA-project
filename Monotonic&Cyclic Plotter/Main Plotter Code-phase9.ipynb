{
 "cells": [
  {
   "cell_type": "code",
   "execution_count": 73,
   "metadata": {},
   "outputs": [
    {
     "data": {
      "text/html": [
       "<script>\n",
       "code_show=true; \n",
       "function code_toggle() {\n",
       " if (code_show){\n",
       " $('div.input').hide();\n",
       " } else {\n",
       " $('div.input').show();\n",
       " }\n",
       " code_show = !code_show\n",
       "} \n",
       "$( document ).ready(code_toggle);\n",
       "</script>\n",
       "The raw code for this IPython notebook is by default hidden for easier reading.\n",
       "To toggle on/off the raw code, click <a href=\"javascript:code_toggle()\">here</a>."
      ],
      "text/plain": [
       "<IPython.core.display.HTML object>"
      ]
     },
     "execution_count": 73,
     "metadata": {},
     "output_type": "execute_result"
    }
   ],
   "source": [
    "from IPython.display import HTML\n",
    "\n",
    "HTML('''<script>\n",
    "code_show=true; \n",
    "function code_toggle() {\n",
    " if (code_show){\n",
    " $('div.input').hide();\n",
    " } else {\n",
    " $('div.input').show();\n",
    " }\n",
    " code_show = !code_show\n",
    "} \n",
    "$( document ).ready(code_toggle);\n",
    "</script>\n",
    "The raw code for this IPython notebook is by default hidden for easier reading.\n",
    "To toggle on/off the raw code, click <a href=\"javascript:code_toggle()\">here</a>.''')"
   ]
  },
  {
   "cell_type": "markdown",
   "metadata": {},
   "source": [
    "### 1. Instructions:\n",
    "\n",
    "In order to run the code properly, please follow this recommended procedure:\n",
    "\n",
    "1)\tClick on \"Cell\" and then click on \"Run All\".\n",
    "\n",
    "2)\tSelect 'Test Type' parameter (i.e., Cyclic or Monotonic). The Available Test Cases corresponding to this Test Type will be shown on the DropDown Manu below. The description details of these available test cases will be shown in the text area to the right of the test case selection area. \n",
    "\n",
    "3) Select 'Stage' parameter (i.e., Consolidation or Shear). \n",
    "\n",
    "4) Select 'Test Case(s)' and start plotting. Click on a particular test case (e.g., 'SW1') to start plotting. To plot **multiple** Test Cases simultaneously, strike **'Ctrl'** key (or **'Command'** key for Mac) and hold, then start selecting multiple test cases. As one add or drop test cases, the plot area will be dynamically updated. \n",
    "\n",
    "Note: DSS = 'Direct Simple Shear'"
   ]
  },
  {
   "cell_type": "code",
   "execution_count": 74,
   "metadata": {},
   "outputs": [
    {
     "data": {
      "application/javascript": [
       "IPython.OutputArea.auto_scroll_threshold = 9999;"
      ],
      "text/plain": [
       "<IPython.core.display.Javascript object>"
      ]
     },
     "metadata": {},
     "output_type": "display_data"
    }
   ],
   "source": [
    "%%javascript\n",
    "IPython.OutputArea.auto_scroll_threshold = 9999;"
   ]
  },
  {
   "cell_type": "code",
   "execution_count": 75,
   "metadata": {
    "collapsed": true
   },
   "outputs": [],
   "source": [
    "%matplotlib notebook\n",
    "%config InlineBackend.figure_format='retina'\n",
    "import matplotlib.pyplot as plt\n",
    "import matplotlib.backends.backend_pdf\n",
    "from matplotlib import rc\n",
    "from matplotlib import ticker\n",
    "from matplotlib.ticker import ScalarFormatter\n",
    "from matplotlib.ticker import FuncFormatter\n",
    "import numpy as np\n",
    "import pandas as pd\n",
    "from ipywidgets import *\n",
    "from IPython.display import display\n",
    "from IPython.display import clear_output\n",
    "from scipy.signal import find_peaks_cwt\n",
    "from scipy import optimize\n",
    "from scipy.optimize import leastsq\n",
    "import statsmodels.api as sm\n",
    "import os\n",
    "\n",
    "font = {'color':  'black',\n",
    "        'weight': 'normal',\n",
    "        'size': 12,\n",
    "        'style': 'italic'\n",
    "        }\n",
    "\n",
    "matplotlib.rcParams.update({'font.family': 'sans-serif','font.sans-serif': 'Arial', 'mathtext.fontset': 'stix',\n",
    "                           'font.size':'12'})\n",
    "matplotlib.rcParams['axes.linewidth'] = 1.5\n",
    "formatter = ticker.ScalarFormatter(useMathText=True)"
   ]
  },
  {
   "cell_type": "code",
   "execution_count": 91,
   "metadata": {
    "collapsed": true
   },
   "outputs": [],
   "source": [
    "# Init Widget Elements \n",
    "# if new mix types are added, the 'mix_type' list should be updated, as well as on_options_change function at the end.\n",
    "mix_type = ['SBFW','SKFW','SBSW']\n",
    "\n",
    "select_mix_type = widgets.RadioButtons(options=mix_type, \n",
    "                                       description='Soil Mixture Type (Event)', \n",
    "                                       variable=[True, False],\n",
    "                                       layout = Layout(width='25%')) \n",
    "\n",
    "radio_btn_test_type = widgets.RadioButtons(options=['Monotonic','Cyclic'],\n",
    "                                           description='DSS Test Type',\n",
    "                                           variable=[True,False],\n",
    "                                           layout = Layout(width='25%'))\n",
    "\n",
    "radio_btn_stage = widgets.RadioButtons(options=['Consolidation','Shear'],\n",
    "                                       description='Test Stage',\n",
    "                                       variable=[True,False],\n",
    "                                       layout = Layout(width='25%'))\n",
    "\n",
    "slider_param = FloatSlider(min=1, max=20, step=0.5, \n",
    "                           description = \"Strain Level(%)\", \n",
    "                           continuous_update = False,\n",
    "                           layout = Layout(width='25%'))\n",
    "slider_param.value = 3\n",
    "\n",
    "layout_test = widgets.Layout(border = '0px', \n",
    "                             width='100%', \n",
    "                             height='100%',\n",
    "                             flex_flow='column',\n",
    "                             display='flex',\n",
    "                             align_items='stretch')\n",
    "\n",
    "files = os.listdir('./DSS_Dataset/')\n",
    "test = [f.strip('.txt') for f in files if ('MON' in f) and ('_C.' in f) and f.startswith('SBSW')]\n",
    "\n",
    "select_multi_test = widgets.SelectMultiple(description=\"Tests ID\", \n",
    "                                           options= test, \n",
    "                                           disabled=False, \n",
    "                                           layout=layout_test) \n",
    "\n",
    "ta = Textarea(value= \"\", \n",
    "              disabled=True,\n",
    "              layout=Layout(display='flex',flex_flow='row', border='solid 1px',\n",
    "                            align_items='stretch',width='90%', height='100%'),\n",
    "              description=\"Details of Test Cases\")\n",
    "\n",
    "btn_save_figure = widgets.Button(description='Save Figure')"
   ]
  },
  {
   "cell_type": "code",
   "execution_count": 77,
   "metadata": {
    "collapsed": true
   },
   "outputs": [],
   "source": [
    "###### Init input parameters #########\n",
    "# All params defined here are global variables and are assumed to be visible throughout the notebook \n",
    "file_description = 'Description.csv'\n",
    "#############################################################################################\n",
    "info = pd.read_csv(file_description,delimiter=',',dtype='str',skiprows=13)\n",
    "info = info.set_index('HEADING')\n",
    "dssg = info.loc[:'GROUP']\n",
    "dsst = info.loc['HEADING':]\n",
    "dsst_col = dsst.loc['HEADING'].tolist()\n",
    "dsst.columns = dsst_col\n",
    "dsst = dsst[1:]\n",
    "#############################################################################################"
   ]
  },
  {
   "cell_type": "code",
   "execution_count": 78,
   "metadata": {
    "collapsed": true
   },
   "outputs": [],
   "source": [
    "def on_button_save_fig_clicked(b):\n",
    "    '''\n",
    "    callback function for Saving Output Figures\n",
    "    '''\n",
    "#     pdf = matplotlib.backends.backend_pdf.PdfPages(text_fig_name.value)\n",
    "    png = matplotlib.backends.backend_agg.Figure\n",
    "    label = str(select_multi_test.value)\n",
    "    \n",
    "    if radio_btn_stage.value == \"Consolidation\":\n",
    "        lab = label+'consolidation'\n",
    "        png.savefig(b.fig_consol, lab, dpi=300)\n",
    "    elif radio_btn_stage.value == \"Shear\": \n",
    "        lab1 = label+'shear1'\n",
    "        lab2 = label+'shear2'\n",
    "        png.savefig(b.fig_shear1, lab1, dpi=300)\n",
    "        png.savefig(b.fig_shear2, lab2, dpi=300)\n",
    "        \n",
    "    png.clear()\n",
    "    print('Figure Exported.')\n",
    "    \n",
    "# add action to be performed on click\n",
    "btn_save_figure.on_click(on_button_save_fig_clicked)"
   ]
  },
  {
   "cell_type": "code",
   "execution_count": 79,
   "metadata": {
    "collapsed": true
   },
   "outputs": [],
   "source": [
    "def get_descriptions(dssg, test, test_type):\n",
    "\n",
    "    if test_type == \"Cyclic\":\n",
    "        descriptions = \"\"\n",
    "    elif test_type == \"Monotonic\":\n",
    "        descriptions = \"\"\n",
    "        for test_case in test: \n",
    "            this_row = dssg[dssg['SPEC_REF']==test_case]\n",
    "\n",
    "            if len(this_row) != 0:\n",
    "                new_description_to_append =  test_case + \": \" + \\\n",
    "                    str(this_row[\"DSSG_DESC\"].values[0]) + \"\\n\"\n",
    "            else:\n",
    "                new_description_to_append = test_case + \": None\\n\"\n",
    "            descriptions = descriptions + new_description_to_append            \n",
    "    return descriptions\n",
    "\n",
    "############# get detailed descriptions ##################################\n",
    "def describe(test_type, test_name, description_g, description_t, IVRt):\n",
    "    if (description_t['DSST_IVS'].tolist() == []):\n",
    "        print(\"No description yet.\")\n",
    "        return \n",
    "\n",
    "    if test_type == \"Monotonic\":\n",
    "        print(test_name +' DESCRIPTION: \\n'+ description_g['DSSG_DESC'].tolist()[0])\n",
    "        print('And '+description_t['DSST_DESC'].tolist()[0])\n",
    "        print('Plastic Limit(PL) = ' + description_g['DSSG_PL'].tolist()[0]+\n",
    "            ';\\nLiquid Limit(LL) = ' + description_g['DSSG_LL'].tolist()[0]+\n",
    "            ';\\nPlastic Index(PI) = ' + description_g['DSSG_PI'].tolist()[0]+\n",
    "            ';\\nMax. past pressure Sigma_p = '+ description_g['DSSG_SIGP'].tolist()[0]+'kPa;'\n",
    "             )\n",
    "        if IVRt == 0.9:\n",
    "            print('Initial Void Ratio assumed 0.9;')\n",
    "    else:\n",
    "        print('No description yet.')\n",
    " "
   ]
  },
  {
   "cell_type": "code",
   "execution_count": 80,
   "metadata": {
    "collapsed": true
   },
   "outputs": [],
   "source": [
    "def fit_csl(sigma_v, e_c, axes):\n",
    "\n",
    "#     x is in log(sigma_v), note: log is ln here\n",
    "#     y is e_c\n",
    "#     fit a linear regression line    \n",
    "#     y =  Gamma + Lambda * ln(x)\n",
    "\n",
    "    # transform to log(sigma_v)\n",
    "    logx = np.log(sigma_v)\n",
    "    X = sigma_v\n",
    "    y = e_c #dependent variable\n",
    "    \n",
    "    # y = a  + b * x\n",
    "    logx = sm.add_constant(logx)\n",
    "    \n",
    "    # construct a model, which is an ordinary least square model (OLS)\n",
    "    model = sm.OLS(y,logx)\n",
    "    results = model.fit()   \n",
    "    \n",
    "    Gamma = results.params[0]\n",
    "    Lambda = results.params[1]\n",
    "    \n",
    "    \n",
    "    x_new = np.linspace(np.min(logx), np.max(logx*1.2),100)\n",
    "    y_new = Gamma + Lambda * x_new\n",
    "    #axes.semilogx(x_new, powerlaw(x_new, a, b))\n",
    "    e_logx = np.exp(x_new)\n",
    "\n",
    "    axes.semilogx(e_logx, y_new)\n",
    "    \n",
    "    return (Gamma, Lambda, results.rsquared)"
   ]
  },
  {
   "cell_type": "code",
   "execution_count": 81,
   "metadata": {
    "collapsed": true
   },
   "outputs": [],
   "source": [
    "def fit_powerlaw(x, y, axes):\n",
    "\n",
    "#     Given x and y, this function solves for S and m.\n",
    "\n",
    "    yerr = [i * 0.2 for i in y]\n",
    "    logx = np.log10(x)\n",
    "    logy = np.log10(y)\n",
    "\n",
    "    yerr = np.asarray(yerr)\n",
    "    y = np.asarray(y)\n",
    "    x = np.asarray(x)\n",
    "    logyerr = yerr / y\n",
    "\n",
    "    fitfunc = lambda p, x: p[0] + p[1] * x\n",
    "    errfunc = lambda p, x, y, err: (y - fitfunc(p, x)) / err\n",
    "\n",
    "    pinit = [1.0, -1.0]\n",
    "    out = optimize.leastsq(errfunc, pinit,\n",
    "                           args=(logx, logy, logyerr), full_output=1)\n",
    "\n",
    "    pfinal = out[0]\n",
    "    covar = out[1]\n",
    "    b = pfinal[1]\n",
    "    a = 10.0**pfinal[0]\n",
    "\n",
    "    powerlaw = lambda x, a, b: a * (x**b)\n",
    "    \n",
    "    x_new = np.linspace(np.min(x*0.8), np.max(x*1.2),100)\n",
    "    axes.semilogx(x_new, powerlaw(x_new, a, b))\n",
    "    \n",
    "    return (a,b)"
   ]
  },
  {
   "cell_type": "code",
   "execution_count": 82,
   "metadata": {
    "collapsed": true
   },
   "outputs": [],
   "source": [
    "def plot_CSR(time, shear_strain, ax, peak_avg, period, initial_vertical_stress,label_CSR):\n",
    "    \n",
    "    time_def_percent = time[-1]\n",
    "    CSR = round(float(peak_avg/initial_vertical_stress),4)\n",
    "    Number_of_Cycle = round(float(time_def_percent/period),1)\n",
    "                \n",
    "    ax.semilogx(Number_of_Cycle, CSR, 'o', label = label_CSR)\n",
    "    fmt = FuncFormatter(lambda x, pos: str(int(x)))\n",
    "    ax.xaxis.set_major_formatter(fmt)\n",
    "    ax.set_xlabel('Number of Uniform Cycle, N', fontdict=font)\n",
    "    ax.set_ylabel('Cyclic Stress Ratio, $\\\\tau_{cyc}/\\sigma\\'_{vc}$', fontdict=font)\n",
    "    ax.set_title('CSR vs. N', fontdict=font)\n",
    "    ax.set_xlim(left=0.1)\n",
    "    ax.grid(True, which='both')\n",
    "    ax.legend(loc='best',prop={'size':10}) \n",
    "    ax.tick_params(direction='in',width=1.5,which='both')\n",
    "    \n",
    "    print (label_CSR + '; CSR ='+ str(CSR) + '; Number of Uniform Cycle: '+str(Number_of_Cycle))\n",
    "    \n",
    "    return (Number_of_Cycle, CSR)"
   ]
  },
  {
   "cell_type": "code",
   "execution_count": 83,
   "metadata": {
    "collapsed": true
   },
   "outputs": [],
   "source": [
    "def strength_normalize(OCR, initial_vertical_stress, shear_stress, ax, strain_limit, lab):\n",
    "\n",
    "    ## Su is the maximum value of the shear stress\n",
    "    ## sigma_vc is the value of the vertical stress at the beginning of test\n",
    "    ## Su_sigma is a constant value for a test.\n",
    "\n",
    "    residual = max(shear_stress)\n",
    "    Su_sigma = residual/initial_vertical_stress\n",
    "\n",
    "    ax.semilogx(OCR,Su_sigma,'o',label=lab)\n",
    "    fmt = FuncFormatter(lambda x, pos: str(round(float(x),1)))\n",
    "    fmt2 = FuncFormatter(lambda x, pos: str(int(x)))\n",
    "    ax.xaxis.set_minor_formatter(fmt2)\n",
    "    ax.xaxis.set_major_formatter(fmt)\n",
    "    ax.set_title('Strength Normalization Plot')\n",
    "    ax.set_ylabel(r'$\\mathrm{\\frac{S_u}{\\sigma_v}}$', fontdict=font, rotation=360)\n",
    "    ax.set_xlabel('Overconsolidation Ratio, OCR', fontdict=font)\n",
    "    ax.legend(loc='best', prop={'size':10})\n",
    "    ax.set_xlim([1,10])\n",
    "    ax.grid(True, which=\"both\")\n",
    "    ax.tick_params(direction='in',width=1.5,which='both')\n",
    "          \n",
    "    return(OCR, Su_sigma)"
   ]
  },
  {
   "cell_type": "code",
   "execution_count": 84,
   "metadata": {
    "collapsed": true
   },
   "outputs": [],
   "source": [
    "def plot_all(stage, test_type, select_multi_test):\n",
    "     \n",
    "    test_chose = list(select_multi_test)\n",
    "    L = len(test_chose)\n",
    "    \n",
    "    ###----for consolidation----###\n",
    "    if stage == 'Consolidation':\n",
    "        if L > 0:\n",
    "            f, axes = plt.subplots(1,2,figsize=(8,4),dpi=80)\n",
    "            btn_save_figure.fig_consol = f\n",
    "            plt.rc('lines')\n",
    "            \n",
    "            for i in range(0,L):\n",
    "                path = './DSS_Dataset/'+test_chose[i] + '.txt'\n",
    "                data = np.genfromtxt(path, delimiter=',', usecols=np.arange(0,21))\n",
    "                    \n",
    "                if test_type != 'Cyclic': \n",
    "                    condition = ((dsst['SPEC_REF']==test_chose[i])&\n",
    "                                (dsst['DSST_FSET']=='Consolidation.txt'))\n",
    "                    description_t = dsst[condition]\n",
    "                    description_g = dssg[(dssg['SPEC_REF']==test_chose[i])]\n",
    "                    \n",
    "                    # IVSt: Initial vertical stress\n",
    "                    # FVSt: final vertical stress\n",
    "                    # IVRt: initial void ratio\n",
    "                    # FVRt: final void ratio\n",
    "                    try:\n",
    "                        IVSt = float(description_t['DSST_IVS'].tolist()[0])\n",
    "                        FVSt = float(description_t['DSST_FVS'].tolist()[0])\n",
    "                        IVRt = float(description_t['DSST_IVR'].tolist()[0])\n",
    "                        FVRt = float(description_t['DSST_FVR'].tolist()[0])\n",
    "                    except IndexError:\n",
    "                        IVSt = 0\n",
    "                        FVSt = 0\n",
    "                        IVRt = 0.9\n",
    "\n",
    "                    describe(test_type=test_type, test_name=test_chose[i], \n",
    "                             description_g=description_g, description_t=description_t, \n",
    "                             IVRt=IVRt)\n",
    "                    \n",
    "                time = data[2:, 0] - data[2,0]\n",
    "                vertical_stress = data[2: ,18]\n",
    "                pwp = data[2: ,20]\n",
    "                axial_strain = data[2: ,15]\n",
    "                shear_strain = data[2: ,14]\n",
    "                max_vstress = max(vertical_stress)\n",
    "                min_vstress = vertical_stress[-1] \n",
    "                OCR = str(int(round(max_vstress/min_vstress))) \n",
    "                lab = test_chose[i].strip('.txt')\n",
    "                \n",
    "                \n",
    "                axes[0].plot(time, vertical_stress, linewidth=1, label=lab);\n",
    "                axes[0].set_xlabel('Time (sec)',fontdict=font)\n",
    "                axes[0].set_ylabel('Vertical Effective Stress, $\\sigma\\'_{vc}$ (kPa)',fontdict=font)\n",
    "                axes[0].legend(loc='best',prop={'size':10})\n",
    "                axes[0].grid(True)\n",
    "                axes[0].tick_params(direction='in',width=1.5)\n",
    "                f.tight_layout()\n",
    "\n",
    "                axes[1].plot(time, axial_strain, linewidth=1, label=lab);\n",
    "                axes[1].set_xlabel('Time (sec)', fontdict=font)\n",
    "                axes[1].set_ylabel('Axial Strain, $\\epsilon_a$ (%)', fontdict=font)\n",
    "                axes[1].legend(loc='best',prop={'size':10})\n",
    "                axes[1].grid(True)\n",
    "                axes[1].tick_params(direction='in',width=1.5)\n",
    "                f.tight_layout()               \n",
    "                \n",
    "    ###----for shear test----###        \n",
    "    elif stage == 'Shear':\n",
    "        if L > 0:\n",
    "            f1, axes1 = plt.subplots(1,3,figsize=(12,4),dpi=80)\n",
    "            f2, axes2 = plt.subplots(2,2,figsize=(10,8),dpi=80)\n",
    "            btn_save_figure.fig_shear1 = f1\n",
    "            btn_save_figure.fig_shear2 = f2\n",
    "            plt.rc('lines')\n",
    "            \n",
    "            for i in range(0,L):\n",
    "                \n",
    "                path = './DSS_Dataset/' + test_chose[i] + '.txt'\n",
    "                data = np.genfromtxt(path, delimiter=',')\n",
    "\n",
    "                # reading data\n",
    "                shear_strain_raw = data[2: ,14]\n",
    "                strain_limit = slider_param.value\n",
    "                if max(shear_strain_raw)<strain_limit:\n",
    "                    is_abs_above_limit = abs(shear_strain_raw) == max(shear_strain_raw)\n",
    "                    index_min2 = np.where(is_abs_above_limit)[0][0] + 1\n",
    "                else:\n",
    "                    is_abs_above_limit = abs(shear_strain_raw) > strain_limit\n",
    "                    index_min2 = np.where(is_abs_above_limit)[0][0] + 1\n",
    "                \n",
    "                # different shear plots for cyclic (axes2[1,0] & axes2[1,1])\n",
    "                if test_type == 'Cyclic':\n",
    "                    lab = test_chose[i].strip('.txt')\n",
    "                    driving = data[2: ,22]\n",
    "                    start_index = np.where(driving>0)[0][0]+2\n",
    "                    driving = driving[start_index:index_min2]\n",
    "                    \n",
    "                    pwp = data[start_index:index_min2,20]\n",
    "                    vertical_stress = data[start_index:index_min2,18]\n",
    "                    initial_vertical_stress = vertical_stress[0]\n",
    "#                     Ru = pwp/initial_vertical_stress\n",
    "                    \n",
    "                    time = data[start_index:index_min2,0]-data[start_index,0]\n",
    "                    shear_strain = data[start_index:index_min2,14]\n",
    "                    shear_stress = data[start_index:index_min2,17]\n",
    "                    normalized_shearstress = data[start_index:index_min2,-3]\n",
    "                    normalized_verticalstress = data[start_index:index_min2,-2]\n",
    "                    Ru = data[start_index:index_min2,-1]\n",
    "                    void_ratio = 0*Ru\n",
    "                    \n",
    "                    \n",
    "                    for n in range(1,len(driving)):\n",
    "                        if (driving[n]>driving[n-1]) & (driving[n]>driving[n+1]):\n",
    "                            first_peak=n\n",
    "                            peak1=shear_stress[first_peak]\n",
    "                            peak2=shear_stress[first_peak*3]\n",
    "                            period = (time[n+1])*4\n",
    "                            break\n",
    "                    peak_avg =(abs(peak1)+abs(peak2))/2\n",
    "                    cycle_all = time/period\n",
    "                    \n",
    "                    axes2[1,0].plot(cycle_all, shear_strain, linewidth=1, label=lab)\n",
    "                    axes2[1,0].set_xlabel('Number of Uniform Cycles, N', fontdict=font)\n",
    "                    axes2[1,0].set_ylabel('Shear Strain, $\\gamma$ (%)', fontdict=font)\n",
    "                    axes2[1,0].set_xlim(left=0)\n",
    "                    axes2[1,0].grid(True)\n",
    "                    axes2[1,0].tick_params(direction='in',width=1.5)\n",
    "                    f2.tight_layout() \n",
    "                    \n",
    "                    axes2[1,1].plot(cycle_all, Ru, linewidth=1, label=lab);\n",
    "                    axes2[1,1].set_xlabel('Number of Uniform Cycles, N', fontdict=font)\n",
    "                    axes2[1,1].set_ylabel('Normalized Pore Pressure Ratio, $r_u$', fontdict=font)\n",
    "                    axes2[1,1].set_xlim(left=0)\n",
    "                    axes2[1,1].grid(True)\n",
    "                    axes2[1,1].tick_params(direction='in',width=1.5)\n",
    "                    f2.tight_layout() \n",
    "                    \n",
    "                # different shear plots for monotonic (axes2[1,0] & axes2[1,1])\n",
    "                else:\n",
    "                    shear_strain = data[2:index_min2,14]\n",
    "                    time = data[2:index_min2,0] - data[2,0]\n",
    "                    pwp = data[2:index_min2,20]\n",
    "                    shear_stress = data[2:index_min2,17]\n",
    "                    shear_stress_raw = data[2:,17]\n",
    "                    vertical_stress = data[2:index_min2,18]\n",
    "                    normalized_shearstress = data[2:index_min2,-3]\n",
    "                    normalized_verticalstress = data[2:index_min2,-2]\n",
    "                    Ru = data[2:index_min2,-1]\n",
    "                    void_ratio = 0*Ru\n",
    "                    initial_vertical_stress = vertical_stress[0]\n",
    "                    \n",
    "                    FVSt = vertical_stress[-1]\n",
    "                    \n",
    "                    initial_vertical_stress = vertical_stress[0] \n",
    "                    condition = (dsst['SPEC_REF']==test_chose[i])&(dsst['DSST_FSET']=='Shear.txt')\n",
    "                    description_g = dssg[(dssg['SPEC_REF']==test_chose[i])]\n",
    "                    description_t = dsst[condition]\n",
    "                    \n",
    "                    #initial and final void ratio:\n",
    "                    try:\n",
    "                        IVRt = float(description_t['DSST_IVR'].tolist()[0])\n",
    "                        FVRt = float(description_t['DSST_FVR'].tolist()[0])\n",
    "                        OCR = str(int(description_t['DSST_IOCR'].tolist()[0]))        \n",
    "                        lab = test_chose[i].strip('.txt') +'; strain:'+ str(slider_param.value)+'%'\n",
    "                        lab_normal = test_chose[i] + '; OCR = '+ OCR\n",
    "                        \n",
    "                    except IndexError:\n",
    "                        IVRt = 0.9\n",
    "                        FVRt = 0.8\n",
    "                        vertical_stress_original = data[2: ,18]\n",
    "                        max_vstress = max(vertical_stress_original)\n",
    "                        min_vstress = vertical_stress_original[-1] \n",
    "                        OCR = str(int(round(max_vstress/min_vstress)))\n",
    "                        lab = test_chose[i].strip('.txt')+'; strain:'+ str(slider_param.value)+'%'\n",
    "                        lab_normal = test_chose[i] + '; OCR = '+ OCR\n",
    "                        \n",
    "                    \n",
    "                    describe(test_type=test_type, test_name=test_chose[i], \n",
    "                             description_g=description_g, description_t=description_t, \n",
    "                             IVRt=IVRt)\n",
    "                    \n",
    "                    axes2[1,0].axis('off')\n",
    "                    \n",
    "                    axes2[1,1].plot(shear_strain, Ru, linewidth=1, label=lab)\n",
    "                    axes2[1,1].set_xlim([0,20])\n",
    "                    axes2[1,1].set_xlabel('Shear Strain, $\\gamma$ (%)', fontdict=font)\n",
    "                    axes2[1,1].set_ylabel('Normalized Pore Pressure Ratio, $r_u$ (kPa)', fontdict=font)\n",
    "                    axes2[1,1].grid(True)\n",
    "                    axes2[1,1].tick_params(direction='in',width=1.5)\n",
    "                    f2.tight_layout() \n",
    "                    \n",
    "                    pd.options.display.max_colwidth = 100\n",
    "\n",
    "                # After getting time vectors for monotonic and cyclic respectively, plot time plots here\n",
    "                # Time Plots for both monotonic and cyclic\n",
    "                axes1[0].plot(time, shear_stress, linewidth=1, label=lab)\n",
    "                axes1[0].set_xlabel('Time (sec)', fontdict=font)\n",
    "                if test_type == 'Cyclic':\n",
    "                    axes1[0].set_ylabel('Shear Stress, $\\\\tau_{cyc}$ (kPa)', fontdict=font)\n",
    "                if test_type == 'Monotonic':\n",
    "                    axes1[0].set_ylabel('Shear Stress, $\\\\tau_h$ (kPa)', fontdict=font)\n",
    "                axes1[0].set_xlim(left=0)\n",
    "                axes1[0].grid(True)\n",
    "                axes1[0].tick_params(direction='in',width=1.5)\n",
    "                f1.tight_layout()\n",
    "\n",
    "                axes1[1].plot(time, shear_strain, linewidth=1, label=lab);\n",
    "                axes1[1].set_xlabel('Time (sec)', fontdict=font)\n",
    "                axes1[1].set_ylabel('Shear Strain, $\\gamma$ (%)', fontdict=font)\n",
    "                axes1[1].set_xlim(left=0)\n",
    "                axes1[1].legend(loc='best',prop={'size':10})\n",
    "                axes1[1].grid(True)\n",
    "                axes1[1].tick_params(direction='in',width=1.5)\n",
    "                f1.tight_layout()\n",
    "\n",
    "                axes1[2].plot(time, pwp, linewidth=1, label=lab);\n",
    "                axes1[2].set_xlabel('Time (sec)', fontdict=font)\n",
    "                axes1[2].set_ylabel('Equivalent Pore Water Pressure, $u_e$ (kPa)', fontdict=font)\n",
    "                axes1[2].set_xlim(left=0)\n",
    "                axes1[2].grid(True)\n",
    "                axes1[2].tick_params(direction='in',width=1.5)\n",
    "                f1.tight_layout()\n",
    "                \n",
    "                # Shear Plots for both monotonic and cyclic\n",
    "                # Normalized parameters to be used####################################To be changed\n",
    "                axes2[0,0].plot(normalized_verticalstress, normalized_shearstress, \n",
    "                                linewidth=1, label=lab);\n",
    "                axes2[0,0].set_xlabel('Normalized Vertical Stress, $\\sigma_v\\'/\\sigma\\'_{vc}$', fontdict=font)\n",
    "                if test_type == 'Monotonic':\n",
    "                    axes2[0,0].set_ylabel('Normalized Shear Stress, $\\\\tau_h/\\sigma\\'_{vc}$', fontdict=font)\n",
    "                if test_type == 'Cyclic':\n",
    "                    axes2[0,0].set_ylabel('Normalized Shear Stress, $\\\\tau_{cyc}/\\sigma\\'_{vc}$', fontdict=font)\n",
    "                axes2[0,0].grid(True)\n",
    "                axes2[0,0].tick_params(direction='in',width=1.5)\n",
    "                f2.tight_layout()\n",
    "\n",
    "                axes2[0,1].plot(shear_strain, normalized_shearstress, linewidth=1, label=lab);\n",
    "                if test_type == 'Monotonic':\n",
    "                    axes2[0,1].set_xlim([0,20])\n",
    "                    axes2[0,1].set_ylabel('Normalized Shear Stress, $\\\\tau_h/\\sigma\\'_{vc}$', fontdict=font)\n",
    "                if test_type == 'Cyclic':\n",
    "                    axes2[0,1].set_ylabel('Normalized Shear Stress, $\\\\tau_{cyc}/\\sigma\\'_{vc}$', fontdict=font)\n",
    "                axes2[0,1].legend(loc='best',prop={'size':10})\n",
    "                axes2[0,1].set_xlabel('Shear Strain, $\\gamma$ (%)', fontdict=font)\n",
    "                \n",
    "                axes2[0,1].grid(True)\n",
    "                axes2[0,1].tick_params(direction='in',width=1.5)\n",
    "                f2.tight_layout()\n",
    "                "
   ]
  },
  {
   "cell_type": "code",
   "execution_count": 92,
   "metadata": {},
   "outputs": [
    {
     "data": {
      "application/vnd.jupyter.widget-view+json": {
       "model_id": "9b3c555f30824673a8a9576ed593c610"
      }
     },
     "metadata": {},
     "output_type": "display_data"
    },
    {
     "data": {
      "application/vnd.jupyter.widget-view+json": {
       "model_id": "72623af9b4bf49b0b14ad77ab3745d08"
      }
     },
     "metadata": {},
     "output_type": "display_data"
    },
    {
     "data": {
      "application/vnd.jupyter.widget-view+json": {
       "model_id": "48862448e310461c848ca33e98bf0ba7"
      }
     },
     "metadata": {},
     "output_type": "display_data"
    }
   ],
   "source": [
    "def on_options_change(*args):\n",
    "\n",
    "    files = os.listdir('./DSS_Dataset/')\n",
    "    test_type = radio_btn_test_type.value\n",
    "    stage = radio_btn_stage.value\n",
    "    mix_type = select_mix_type.value\n",
    "    \n",
    "    # if new mix types are added, should update accordingly\n",
    "    if mix_type == 'SBSW':\n",
    "        files = [f for f in files if f.startswith('SBSW')]\n",
    "    if mix_type == 'SBFW':\n",
    "        files = [f for f in files if f.startswith('SBFW')]\n",
    "    if mix_type == 'SKFW':\n",
    "        files = [f for f in files if f.startswith('SKFW')]   \n",
    "\n",
    "    if test_type == 'Cyclic':\n",
    "        test1 = [f for f in files if 'CYC' in f]\n",
    "        if stage == 'Consolidation':\n",
    "            test = [f.strip('.txt') for f in test1 if '_C.' in f]\n",
    "        if stage == 'Shear':\n",
    "            test = [f.strip('.txt') for f in test1 if '_S.' in f]\n",
    "    if test_type == 'Monotonic':\n",
    "        test1 = [f for f in files if 'MON' in f]  \n",
    "        if stage == 'Consolidation':\n",
    "            test = [f.strip('.txt') for f in test1 if '_C.' in f]\n",
    "        if stage == 'Shear':\n",
    "            test = [f.strip('.txt') for f in test1 if '_S.' in f]     \n",
    "    \n",
    "    select_multi_test.options = test\n",
    "    \n",
    "    ##### Update Text Area ########\n",
    "    ta.value = get_descriptions(dssg = dssg, \n",
    "                                test = select_multi_test.options, \n",
    "                                test_type= radio_btn_test_type.value)\n",
    "    \n",
    "    \n",
    "def update_plot(*args):\n",
    "    clear_output()\n",
    "    plot_all(stage = radio_btn_stage.value, test_type = radio_btn_test_type.value, \n",
    "            select_multi_test = select_multi_test.value)\n",
    "    \n",
    "def on_slider_change(*args):\n",
    "    if (radio_btn_stage.value == \"Shear\") & (radio_btn_test_type.value == \"Cyclic\"):        \n",
    "        update_plot(*args)\n",
    "    if (radio_btn_stage.value == \"Shear\") & (radio_btn_test_type.value == \"Monotonic\"):  \n",
    "        update_plot(*args)\n",
    "        \n",
    "# add test_type observer\n",
    "radio_btn_test_type.observe(on_options_change, names=\"value\")\n",
    "radio_btn_stage.observe(on_options_change, names=\"value\")\n",
    "select_mix_type.observe(on_options_change, names=\"value\")\n",
    "select_multi_test.observe(update_plot, names=\"value\")\n",
    "\n",
    "# update plot when slider changes and filter is matched \n",
    "slider_param.observe(on_slider_change, names=\"value\")\n",
    "\n",
    "hbox_param_major = widgets.HBox([select_mix_type, radio_btn_test_type, radio_btn_stage, slider_param], \n",
    "                                layout = Layout(display='flex',\n",
    "                                                flex_flow='row', \n",
    "                                                border='solid 1px',\n",
    "                                                align_items='flex-start', \n",
    "                                                width='100%',\n",
    "                                                height=\"100px\"))\n",
    "\n",
    "vbox_test = widgets.VBox([select_multi_test], \n",
    "                         layout = Layout(display='flex',\n",
    "                                         flex_flow='row', \n",
    "                                         border='solid 1px',\n",
    "                                         align_items='stretch', \n",
    "                                         width=\"400px\",\n",
    "                                         height='100%')) \n",
    "\n",
    "hbox_main =widgets.HBox([vbox_test, ta],\n",
    "                        layout = Layout(display='flex',\n",
    "                                        flex_flow='row',\n",
    "                                        align_items='stretch', \n",
    "                                        width='100%',\n",
    "                                        height=\"180px\"))\n",
    "\n",
    "hbox_save_fig = widgets.HBox([btn_save_figure],\n",
    "                             layout = Layout(display='flex',\n",
    "                                             flex_flow='row',\n",
    "                                             align_items='center', \n",
    "                                             width='100%',\n",
    "                                             height=\"50px\"))                   \n",
    "\n",
    "\n",
    "display(hbox_param_major)\n",
    "display(hbox_main)\n",
    "display(hbox_save_fig)"
   ]
  },
  {
   "cell_type": "code",
   "execution_count": null,
   "metadata": {
    "collapsed": true
   },
   "outputs": [],
   "source": []
  }
 ],
 "metadata": {
  "anaconda-cloud": {},
  "kernelspec": {
   "display_name": "Python 3",
   "language": "python",
   "name": "python3"
  },
  "language_info": {
   "codemirror_mode": {
    "name": "ipython",
    "version": 3
   },
   "file_extension": ".py",
   "mimetype": "text/x-python",
   "name": "python",
   "nbconvert_exporter": "python",
   "pygments_lexer": "ipython3",
   "version": "3.6.2"
  },
  "widgets": {
   "state": {
    "10ac3707b0d44d8d9d824c5e6f050b7c": {
     "views": [
      {
       "cell_index": 14
      }
     ]
    },
    "1783d82a75584f7e9c92d4f1dcfb655c": {
     "views": [
      {
       "cell_index": 14
      }
     ]
    },
    "2662cea3b5424264880511a2a4f7a3fb": {
     "views": [
      {
       "cell_index": 13
      }
     ]
    },
    "2934371a60de42e4978f51ba7818390d": {
     "views": [
      {
       "cell_index": 13
      }
     ]
    },
    "2f130203dbbc447880a5dddfc1c1f00d": {
     "views": [
      {
       "cell_index": 14
      }
     ]
    },
    "57488db0359f4b6588ed74358df85b47": {
     "views": [
      {
       "cell_index": 14
      }
     ]
    },
    "59444391b51b4741a836740c8690f2bc": {
     "views": [
      {
       "cell_index": 14
      }
     ]
    },
    "8a41b498b57442b597899effe7fda10f": {
     "views": [
      {
       "cell_index": 14
      }
     ]
    },
    "97302b101eb84029b892f518a451bc50": {
     "views": [
      {
       "cell_index": 13
      }
     ]
    },
    "9bbbe79fd0584f11be0422ef58ebfb13": {
     "views": [
      {
       "cell_index": 14
      }
     ]
    },
    "a67c3561bfd04409b992c9c985a629f7": {
     "views": [
      {
       "cell_index": 13
      }
     ]
    },
    "b3693eb2e45a42b69cf8b620eae9d574": {
     "views": [
      {
       "cell_index": 14
      }
     ]
    },
    "b44c1b79a6f647d28176bf557b82e558": {
     "views": [
      {
       "cell_index": 13
      }
     ]
    },
    "b9863fc9a7c94ca0b5e7510f9b39cfdc": {
     "views": [
      {
       "cell_index": 14
      }
     ]
    },
    "cab54ca2edc041e0934d2e2224b7e0b7": {
     "views": [
      {
       "cell_index": 14
      }
     ]
    },
    "d52f0bddc0c34dffb4abd0b1d3ca17e9": {
     "views": [
      {
       "cell_index": 13
      }
     ]
    },
    "de63a7ae4de64aa9b3ca5ca13acdce2b": {
     "views": [
      {
       "cell_index": 14
      }
     ]
    },
    "de8befea33db411191e8fd4bf821f940": {
     "views": [
      {
       "cell_index": 14
      }
     ]
    },
    "e3dace81098d4ff9a833474abd136134": {
     "views": [
      {
       "cell_index": 14
      }
     ]
    }
   },
   "version": "1.2.0"
  }
 },
 "nbformat": 4,
 "nbformat_minor": 1
}
