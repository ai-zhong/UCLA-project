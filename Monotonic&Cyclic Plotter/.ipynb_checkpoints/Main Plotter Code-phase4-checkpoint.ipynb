{
 "cells": [
  {
   "cell_type": "code",
   "execution_count": 14,
   "metadata": {},
   "outputs": [
    {
     "data": {
      "text/html": [
       "<script>\n",
       "code_show=true; \n",
       "function code_toggle() {\n",
       " if (code_show){\n",
       " $('div.input').hide();\n",
       " } else {\n",
       " $('div.input').show();\n",
       " }\n",
       " code_show = !code_show\n",
       "} \n",
       "$( document ).ready(code_toggle);\n",
       "</script>\n",
       "The raw code for this IPython notebook is by default hidden for easier reading.\n",
       "To toggle on/off the raw code, click <a href=\"javascript:code_toggle()\">here</a>."
      ],
      "text/plain": [
       "<IPython.core.display.HTML object>"
      ]
     },
     "execution_count": 14,
     "metadata": {},
     "output_type": "execute_result"
    }
   ],
   "source": [
    "from IPython.display import HTML\n",
    "\n",
    "HTML('''<script>\n",
    "code_show=true; \n",
    "function code_toggle() {\n",
    " if (code_show){\n",
    " $('div.input').hide();\n",
    " } else {\n",
    " $('div.input').show();\n",
    " }\n",
    " code_show = !code_show\n",
    "} \n",
    "$( document ).ready(code_toggle);\n",
    "</script>\n",
    "The raw code for this IPython notebook is by default hidden for easier reading.\n",
    "To toggle on/off the raw code, click <a href=\"javascript:code_toggle()\">here</a>.''')\n"
   ]
  },
  {
   "cell_type": "markdown",
   "metadata": {},
   "source": [
    "### 1. Instructions:\n",
    "\n",
    "In order to run the code properly, please follow this recommended procedure:\n",
    "\n",
    "1)\tClick on \"Cell\" and then click on \"Run All\".\n",
    "\n",
    "2)\tSelect 'Test Type' parameter (i.e., Cyclic or Monotonic). The Available Test Cases corresponding to this Test Type will be shown on the DropDown Manu below. The description details of these available test cases will be shown in the text area to the right of the test case selection area. \n",
    "\n",
    "3) Select 'Stage' parameter (i.e., Consolidation or Shear). \n",
    "\n",
    "4) Select 'Test Case(s)' and start plotting. Click on a particular test case (e.g., 'SW1') to start plotting. To plot **multiple** Test Cases simultaneously, strike **'Ctrl'** key (or **'Command'** key for Mac) and hold, then start selecting multiple test cases. As one add or drop test cases, the plot area will be dynamically updated. \n",
    "\n",
    "5) Finally, one can export the produced figures into PDF. The file name needs to be specified by the user by typing in the 'Fig. Name' text box and end the name with '.pdf'. \n",
    "\n",
    "Note: DSS = 'Direct Simple Shear'"
   ]
  },
  {
   "cell_type": "code",
   "execution_count": 15,
   "metadata": {},
   "outputs": [
    {
     "data": {
      "application/javascript": [
       "IPython.OutputArea.auto_scroll_threshold = 9999;"
      ],
      "text/plain": [
       "<IPython.core.display.Javascript object>"
      ]
     },
     "metadata": {},
     "output_type": "display_data"
    }
   ],
   "source": [
    "%%javascript\n",
    "IPython.OutputArea.auto_scroll_threshold = 9999;"
   ]
  },
  {
   "cell_type": "code",
   "execution_count": 16,
   "metadata": {},
   "outputs": [],
   "source": [
    "%matplotlib notebook\n",
    "%config InlineBackend.figure_format='retina'\n",
    "import matplotlib.pyplot as plt\n",
    "import matplotlib.backends.backend_pdf\n",
    "import numpy as np\n",
    "import pandas as pd\n",
    "from ipywidgets import *\n",
    "from IPython.display import display\n",
    "from IPython.display import clear_output\n",
    "from matplotlib import rc\n",
    "from matplotlib import ticker\n",
    "from scipy.signal import find_peaks_cwt\n",
    "from scipy import optimize\n",
    "from scipy.optimize import leastsq\n",
    "import statsmodels.api as sm\n",
    "import os\n",
    "\n",
    "font = {'color':  'black',\n",
    "        'weight': 'normal',\n",
    "        'size': 11,\n",
    "        }\n",
    "\n",
    "layout100 = Layout(display='flex',flex_flow='row', border='solid 1px',align_items='stretch',width='100%')\n",
    "matplotlib.rcParams.update({'font.family': 'STIXGeneral', 'mathtext.fontset': 'stix'})"
   ]
  },
  {
   "cell_type": "code",
   "execution_count": 17,
   "metadata": {
    "collapsed": true
   },
   "outputs": [],
   "source": [
    "# Init Widget Elements \n",
    "radio_btn_test_type = widgets.RadioButtons(options=['Cyclic','Monotonic'],\n",
    "                             description='DSS Test Type',variable=[True,False])\n",
    "\n",
    "radio_btn_stage = widgets.RadioButtons(options=['Consolidation','Shear'],\n",
    "                             description='Stage',variable=[True,False])\n",
    "\n",
    "\n",
    "seclect_multi_test = widgets.SelectMultiple(\n",
    "description=\"Test Cases\",\n",
    "options= []\n",
    ")\n",
    "\n",
    "ta = Textarea(value= \"\", disabled=True,\n",
    "              layout=layout100,\n",
    "              description=\"Details of Test Cases\")\n",
    "\n",
    "btn_save_figure = widgets.Button(description='Save All as PDF')\n",
    "text_fig_name = widgets.Text(description=\"File Name\")\n",
    "\n",
    "\n",
    "slider_param = FloatSlider(min=1, max=20, step=0.5, description = \"Strain% Adjustor\", \n",
    "                              continuous_update = False)\n",
    "slider_param.value = 3"
   ]
  },
  {
   "cell_type": "code",
   "execution_count": 18,
   "metadata": {
    "collapsed": true
   },
   "outputs": [],
   "source": [
    "###### Init input parameters #########\n",
    "# All params defined here are global variables and are assumed to be visible throughout the notebook \n",
    "file_description = 'Description.csv'\n",
    "#############################################################################################\n",
    "info = pd.read_csv(file_description,delimiter=',',dtype='str',skiprows=13)\n",
    "info = info.set_index('HEADING')\n",
    "dssg = info.loc[:'GROUP']\n",
    "dsst = info.loc['HEADING':]\n",
    "dsst_col = dsst.loc['HEADING'].tolist()\n",
    "dsst.columns = dsst_col\n",
    "dsst = dsst[1:]\n",
    "#############################################################################################\n",
    "\n",
    "dir_root = os.getcwd()\n",
    "dir_root_cyclic = dir_root + \"/Cyclic/\"\n",
    "dir_root_monotonic = dir_root + \"/Monotonic/\"\n",
    "test_dir = dir_root_monotonic"
   ]
  },
  {
   "cell_type": "code",
   "execution_count": 19,
   "metadata": {
    "collapsed": true
   },
   "outputs": [],
   "source": [
    "def on_button_save_fig_clicked(b):\n",
    "    '''\n",
    "    callback function for Saving Output Figures\n",
    "    '''\n",
    "    pdf = matplotlib.backends.backend_pdf.PdfPages(text_fig_name.value)\n",
    "    \n",
    "    if radio_btn_stage.value == \"Consolidation\":\n",
    "        pdf.savefig(b.fig_consol)\n",
    "    elif radio_btn_stage.value == \"Shear\": \n",
    "        pdf.savefig(b.fig_shear1)\n",
    "        pdf.savefig(b.fig_shear2)\n",
    "        pdf.savefig(b.fig_shear3)\n",
    "        \n",
    "    pdf.close()\n",
    "    print('PDF Exported')\n",
    "# add action to be performed on click\n",
    "btn_save_figure.on_click(on_button_save_fig_clicked)\n",
    "\n",
    "\n",
    "def get_test_dir(test_type):\n",
    "    '''\n",
    "    Get test dir according to chosen test type\n",
    "    '''\n",
    "    if test_type == \"Cyclic\":\n",
    "        test_dir = dir_root_cyclic\n",
    "    elif test_type == \"Monotonic\":\n",
    "        test_dir = dir_root_monotonic  \n",
    "    return test_dir"
   ]
  },
  {
   "cell_type": "code",
   "execution_count": 20,
   "metadata": {
    "collapsed": true
   },
   "outputs": [],
   "source": [
    "def get_descriptions(dssg, test, test_type):\n",
    "    '''\n",
    "    Create description string based on chosen test cases and test types\n",
    "    \n",
    "    Input Parameters:\n",
    "    test: a list of test cases strings (e.g., [\"FW1\", \"FW2\"])\n",
    "    test_type: Monotonic or Cyclic\n",
    "    \n",
    "    Current fescription format for each test case is: \n",
    "    SW3: Salt water mix of 90% silt and 10% bentonite clay\n",
    "    \n",
    "    \n",
    "    dependency: require 'dssg'\n",
    "    '''\n",
    "    \n",
    "    if test_type == \"Cyclic\":\n",
    "        descriptions = \"\"\n",
    "    elif test_type == \"Monotonic\":\n",
    "        descriptions = \"\"\n",
    "        for test_case in test: \n",
    "            this_row = dssg[dssg['SPEC_REF']==test_case]\n",
    "\n",
    "            if len(this_row) != 0:\n",
    "                new_description_to_append =  test_case + \": \" + \\\n",
    "                    str(this_row[\"DSSG_DESC\"].values[0]) + \"\\n\"\n",
    "            else:\n",
    "                new_description_to_append = test_case + \": None\" + \"\\n\"\n",
    "            descriptions = descriptions + new_description_to_append            \n",
    "    return descriptions\n",
    "\n",
    "############# get detailed descriptions ##################################\n",
    "def describe(test_type, test_name, description_g, description_t, IVRt):\n",
    "    if (description_t['DSST_IVS'].tolist() == []):\n",
    "        print(\"None\")\n",
    "        return \n",
    "\n",
    "    if test_type != \"Cyclic\":\n",
    "        print(test_name +' DESCRIPTION: \\n'+ description_g['DSSG_DESC'].tolist()[0])\n",
    "        print('And '+description_t['DSST_DESC'].tolist()[0])\n",
    "        print('Plastic Limit(PL) = ' + description_g['DSSG_PL'].tolist()[0]+\n",
    "            ';\\nLiquid Limit(LL) = ' + description_g['DSSG_LL'].tolist()[0]+\n",
    "            ';\\nPlastic Index(PI) = ' + description_g['DSSG_PI'].tolist()[0]+\n",
    "            ';\\nMax. past pressure Sigma_p = '+ description_g['DSSG_SIGP'].tolist()[0]+'kPa;'\n",
    "             )\n",
    "        if IVRt == 0.9:\n",
    "            print('Initial Void Ratio assumed to be 0.9;\\n')\n",
    "        else:\n",
    "            print('\\n')\n",
    "    else:\n",
    "        print('No description on test yet.\\n')\n",
    " "
   ]
  },
  {
   "cell_type": "code",
   "execution_count": 21,
   "metadata": {
    "collapsed": true
   },
   "outputs": [],
   "source": [
    "import statsmodels.api as sm\n",
    "def fit_csl(sigma_v, e_c, axes):\n",
    "    '''\n",
    "    x is in log(sigma_v)\n",
    "    y is e_c\n",
    "    fit a linear regression line\n",
    "    \n",
    "    y =  Gamma + Lambda * x\n",
    "    '''\n",
    "    # transform to log(sigma_v)\n",
    "    logx = np.log(sigma_v)\n",
    "    X = logx\n",
    "    y = e_c #dependent variable\n",
    "    \n",
    "    # y = a  + b * x\n",
    "    X = sm.add_constant(X)\n",
    "    \n",
    "    # construct a model, which is an ordinary least square model (OLS)\n",
    "    model = sm.OLS(y,X)\n",
    "    results = model.fit()   \n",
    "    \n",
    "    Gamma = results.params[0]\n",
    "    Lambda = results.params[1]\n",
    "    \n",
    "    \n",
    "    x_new = np.linspace(np.min(logx*0.8), np.max(logx*1.2),100)\n",
    "    y_new = Gamma + Lambda * x_new\n",
    "    #axes.semilogx(x_new, powerlaw(x_new, a, b))\n",
    "\n",
    "    axes.plot(x_new, y_new)\n",
    "    \n",
    "    return (Gamma,Lambda, results.rsquared)"
   ]
  },
  {
   "cell_type": "code",
   "execution_count": 22,
   "metadata": {
    "collapsed": true
   },
   "outputs": [],
   "source": [
    "def fit_powerlaw(x, y, axes):\n",
    "    '''\n",
    "    Given x and y, this function solves for S and m.\n",
    "    '''\n",
    "    yerr = [i * 0.2 for i in y]\n",
    "    logx = np.log10(x)\n",
    "    logy = np.log10(y)\n",
    "\n",
    "    yerr = np.asarray(yerr)\n",
    "    y = np.asarray(y)\n",
    "    x = np.asarray(x)\n",
    "    logyerr = yerr / y\n",
    "\n",
    "    fitfunc = lambda p, x: p[0] + p[1] * x\n",
    "    errfunc = lambda p, x, y, err: (y - fitfunc(p, x)) / err\n",
    "\n",
    "    pinit = [1.0, -1.0]\n",
    "    out = optimize.leastsq(errfunc, pinit,\n",
    "                           args=(logx, logy, logyerr), full_output=1)\n",
    "\n",
    "    pfinal = out[0]\n",
    "    covar = out[1]\n",
    "    b = pfinal[1]\n",
    "    a = 10.0**pfinal[0]\n",
    "\n",
    "    powerlaw = lambda x, a, b: a * (x**b)\n",
    "    \n",
    "    x_new = np.linspace(np.min(x*0.8), np.max(x*1.2),100)\n",
    "    axes.semilogx(x_new, powerlaw(x_new, a, b))\n",
    "    \n",
    "    return (a,b)"
   ]
  },
  {
   "cell_type": "code",
   "execution_count": 23,
   "metadata": {
    "collapsed": true
   },
   "outputs": [],
   "source": [
    "def plot_CSR(time, shear_strain, ax, peak_avg, period, initial_vertical_stress,label_CSR):\n",
    "    \n",
    "    time_def_percent = time[-1]\n",
    "    CSR = round(float(peak_avg/initial_vertical_stress),4)\n",
    "    Number_of_Cycle = round(float(time_def_percent/period),1)    \n",
    "                \n",
    "    ax.semilogx(Number_of_Cycle, CSR, 'o', label = label_CSR)\n",
    "    ax.set_xlabel('Number of Cycle, N (logscale)', fontdict=font)\n",
    "    ax.set_ylabel('Cyclic Stress Ratio, CSR', fontdict=font)\n",
    "    ax.set_title('Fig1: CSR Plot', fontdict=font)\n",
    "    ax.grid(True, which='both')\n",
    "    ax.tick_params(axis='x', which='minor')\n",
    "    ax.legend(bbox_to_anchor=(1, 1),prop={'size':8}) \n",
    "    \n",
    "    print (label_CSR + '; CSR ='+ str(CSR) + '; Number of Cycle: '+str(Number_of_Cycle))\n",
    "    return (Number_of_Cycle, CSR)"
   ]
  },
  {
   "cell_type": "code",
   "execution_count": 24,
   "metadata": {
    "collapsed": true
   },
   "outputs": [],
   "source": [
    "def strength_normalize(OCR, initial_vertical_stress, shear_strain, shear_stress, ax, strain_limit):\n",
    "\n",
    "    diff_arr = abs(abs(shear_strain) - strain_limit)\n",
    "    index_min = diff_arr.argmin()\n",
    "    residual = shear_stress[index_min]\n",
    "    Su_sigma = residual/initial_vertical_stress\n",
    "\n",
    "    ax.semilogx(OCR,Su_sigma,'o')\n",
    "    ax.set_xlim([1, 10])\n",
    "    ax.set_title('Strength Normalization Plot')\n",
    "    ax.set_ylabel(r'$\\mathrm{\\frac{S_u}{\\sigma_v}}$',fontsize=18)\n",
    "    ax.set_xlabel('OCR')\n",
    "    ax.tick_params(axis='y', which='minor')\n",
    "    ax.grid(True, which=\"both\")\n",
    "    return(OCR,Su_sigma)\n",
    "  "
   ]
  },
  {
   "cell_type": "code",
   "execution_count": 25,
   "metadata": {
    "collapsed": true
   },
   "outputs": [],
   "source": [
    "def plot_all(stage, test_type, seclect_multi_test):\n",
    "     \n",
    "    test_chose = list(seclect_multi_test)\n",
    "    test_dir = get_test_dir(test_type)\n",
    "    L = len(test_chose)\n",
    "    formatter = ticker.ScalarFormatter(useMathText=True)\n",
    "    formatter.set_scientific(True) \n",
    "    formatter.set_powerlimits((-1,1))\n",
    "    \n",
    "    # for plotting later \n",
    "    Number_of_Cycle_arr = np.zeros(L)*np.nan \n",
    "    CSR_arr = np.zeros(L)*np.nan\n",
    "    Void_Ratio_arrf = np.zeros(L)*np.nan\n",
    "    Vertical_stress_arrf = np.zeros(L)*np.nan\n",
    "    OCR_arr = np.zeros(L)*np.nan\n",
    "    Su_arr = np.zeros(L)*np.nan\n",
    "  \n",
    "    ###----for consolidation----###\n",
    "    if stage == 'Consolidation':\n",
    "        if L > 0:\n",
    "            f, axes = plt.subplots(1,3,figsize=(12,4),dpi=80)\n",
    "            btn_save_figure.fig_consol = f\n",
    "            \n",
    "            for i in range(0,L):\n",
    "                if test_type != 'Cyclic':\n",
    "                    condition = ((dsst['SPEC_REF']==test_chose[i])&\n",
    "                                (dsst['DSST_FSET']=='Consolidation.txt'))\n",
    "                    description_t = dsst[condition]\n",
    "                    description_g = dssg[(dssg['SPEC_REF']==test_chose[i])]\n",
    "                    \n",
    "                    if description_t['DSST_IVS'].tolist() == []:\n",
    "                        IVSt = 0\n",
    "                        FVSt = 0\n",
    "                        IVRt = 0\n",
    "                        FVRt = 0\n",
    "                    else:\n",
    "                        IVSt = float(description_t['DSST_IVS'].tolist()[0])\n",
    "                        FVSt = float(description_t['DSST_FVS'].tolist()[0])\n",
    "                        IVRt = float(description_t['DSST_IVR'].tolist()[0])\n",
    "                        if IVRt == 0:\n",
    "                            IVRt = 0.9\n",
    "                        FVRt = float(description_t['DSST_FVR'].tolist()[0])\n",
    "                    \n",
    "                    describe(test_type=test_type, test_name=test_chose[i], \n",
    "                             description_g=description_g, description_t=description_t, \n",
    "                             IVRt=IVRt)\n",
    "                else:\n",
    "                    print('Medium Frequency')\n",
    "\n",
    "                path = test_dir + test_chose[i]+'/'+ stage +'.txt'\n",
    "                data = np.genfromtxt(path, delimiter=',', usecols=np.arange(0,21))                      \n",
    "\n",
    "                time = data[2:, 0] - data[2,0]\n",
    "                vertical_stress = data[2: ,18]\n",
    "                pwp = data[2: ,20]\n",
    "                axial_strain = data[2: ,15]\n",
    "                shear_strain = data[2: ,14]\n",
    "                \n",
    "                if test_type != 'Cyclic':\n",
    "                    axial_strain = pd.Series(data[2: ,15])\n",
    "                    delta_e = (axial_strain/100)*(1+IVRt)\n",
    "                    void_ratio = IVRt - delta_e\n",
    "                    max_vstress = max(vertical_stress)\n",
    "                    min_vstress = data[-1,18]\n",
    "                    OCR = str(int(round(max_vstress/min_vstress)))\n",
    "                    lab = test_chose[i] + '; ' + 'OCR='+OCR            \n",
    "                else:\n",
    "                    void_ratio = 0*time            \n",
    "                    lab = test_chose[i] \n",
    "                \n",
    "                axes[0].plot(time, vertical_stress, linewidth=1, label=lab);\n",
    "                axes[0].set_xlabel('Time (s)',fontdict=font)\n",
    "                axes[0].set_ylabel('Vertical Effective Stress (kPa)',fontdict=font)\n",
    "                axes[0].xaxis.set_major_formatter(formatter) \n",
    "                axes[0].set_title('Fig1: Vertical Stress vs. Time', fontdict=font)\n",
    "                axes[0].legend(bbox_to_anchor=(1,1),prop={'size':8})\n",
    "                axes[0].grid(True)\n",
    "                f.tight_layout()\n",
    "\n",
    "                axes[1].plot(time, axial_strain, linewidth=1, label=lab);\n",
    "                axes[1].set_xlabel('Time (s)', fontdict=font)\n",
    "                axes[1].set_ylabel('Axial Strain (%)', fontdict=font)\n",
    "                axes[1].xaxis.set_major_formatter(formatter)\n",
    "                axes[1].set_title('Fig2: Axial Strain vs. Time', fontdict=font)\n",
    "                axes[1].grid(True)\n",
    "                axes[1].legend(bbox_to_anchor=(1,1),prop={'size':8})\n",
    "                f.tight_layout()\n",
    "\n",
    "                if test_type != 'Cyclic':\n",
    "                    \n",
    "                    axes[2].semilogx(IVSt, IVRt, 'o',label=test_chose[i]+'initial')\n",
    "                    axes[2].semilogx(FVSt, FVRt, '^',label=test_chose[i]+'final')\n",
    "                    axes[2].set_xlabel('Vertical Effective Stress (kPa)', fontdict=font)\n",
    "                    axes[2].set_ylabel('Void Ratio', fontdict=font)\n",
    "                    axes[2].set_title('Fig3: Void Ratio vs Vertical Stress', fontdict=font)\n",
    "                    axes[2].grid(True, which='both')\n",
    "                    axes[2].legend(bbox_to_anchor=(1,1),prop={'size':8})\n",
    "                    f.tight_layout()\n",
    "\n",
    "                    pd.options.display.max_colwidth = 100\n",
    "                                      \n",
    "                else:\n",
    "                    axes[2].semilogx()\n",
    "                    axes[2].set_xlabel('Vertical Effective Stress (kPa)', fontdict=font)\n",
    "                    axes[2].set_ylabel('Void Ratio', fontdict=font)\n",
    "                    axes[2].set_title('Fig3: NO DATA', fontdict=font)\n",
    "                    axes[2].legend(bbox_to_anchor=(1,1),prop={'size':8})\n",
    "                    axes[2].grid(True)\n",
    "                    f.tight_layout()\n",
    "                    print('No description on test yet.')\n",
    "            \n",
    "    \n",
    "    ###----for shear test----###        \n",
    "    elif stage == 'Shear':\n",
    "        if L > 0:\n",
    "            f1, axes1 = plt.subplots(1,3,figsize=(12,4),dpi=80)\n",
    "            f2, axes2 = plt.subplots(2,2,figsize=(8,8),dpi=80)\n",
    "            f3, axes3 = plt.subplots(1,1,figsize=(5,5),dpi=80)\n",
    "            \n",
    "            btn_save_figure.fig_shear1 = f1\n",
    "            btn_save_figure.fig_shear2 = f2\n",
    "            btn_save_figure.fig_shear3 = f3\n",
    "            \n",
    "            for i in range(0,L):\n",
    "                path = test_dir + test_chose[i]+'/'+ stage +'.txt'\n",
    "                data = np.genfromtxt(path, delimiter=',')\n",
    "\n",
    "                time_raw = data[2: ,0] - data[2,0]\n",
    "                shear_stress = data[2: ,17]\n",
    "                shear_strain = data[2: ,14]\n",
    "                \n",
    "                strain_limit = slider_param.value\n",
    "                is_abs_above_limit = abs(shear_strain) > strain_limit\n",
    "                index_limit2 = np.where(is_abs_above_limit)[0][0] \n",
    "                index_min2 = index_limit2+1\n",
    "                \n",
    "                if test_type == 'Cyclic':\n",
    "                    lab = test_chose[i]\n",
    "                    driving = data[2: ,22]\n",
    "                    start_index = np.where(driving>0)[0][0]\n",
    "                    driving = driving[start_index:index_min2]\n",
    "                    \n",
    "                    pwp = data[start_index:index_min2,20]\n",
    "                    vertical_stress = data[start_index:index_min2,18]\n",
    "                    initial_vertical_stress = vertical_stress[0]\n",
    "                    Ru = pwp/initial_vertical_stress\n",
    "                    void_ratio = 0*time_raw\n",
    "                    \n",
    "                    time = time_raw[start_index:index_min2]-time_raw[start_index]\n",
    "                    shear_strain = shear_strain[start_index:index_min2]\n",
    "                    shear_stress = shear_stress[start_index:index_min2]\n",
    "                    \n",
    "                    for n in range(1,len(driving)):\n",
    "                        if (driving[n]>driving[n-1]) & (driving[n]>driving[n+1]):\n",
    "                            first_peak=n\n",
    "                            peak1=shear_stress[first_peak]\n",
    "                            peak2=shear_stress[first_peak*3]\n",
    "                            period = (time[n+1])*4\n",
    "                            break\n",
    "                    peak_avg =(abs(peak1)+abs(peak2))/2\n",
    "                    cycle_all = time/period\n",
    "                    \n",
    "                    axes2[1,0].plot(cycle_all, shear_strain, linewidth=1, label=lab)\n",
    "                    axes2[1,0].set_xlabel('Number of Cycles, N', fontdict=font)\n",
    "                    axes2[1,0].set_ylabel('Shear Strain (%)', fontdict=font)\n",
    "                    axes2[1,0].set_title('Fig3: Shear Strain vs. N', fontdict=font)\n",
    "                    #axes2[1,0].legend(bbox_to_anchor=(1, 1),prop={'size':8})\n",
    "                    axes2[1,0].grid(True)\n",
    "                    f2.tight_layout() \n",
    "                    \n",
    "                    axes2[1,1].plot(cycle_all, Ru, linewidth=1, label=lab);\n",
    "                    axes2[1,1].set_xlabel('Number of Cycles, N', fontdict=font)\n",
    "                    axes2[1,1].set_ylabel('Normalized pwp, Ru', fontdict=font)\n",
    "                    axes2[1,1].set_title('Fig4: Ru vs. N', fontdict=font)\n",
    "                    axes2[1,1].grid(True)\n",
    "                    f2.tight_layout() \n",
    "                    \n",
    "                    lab_csr = lab +'; strain:'+ str(slider_param.value)+'%'\n",
    "                    (Number_of_Cycle, CSR) = plot_CSR(time, shear_strain,axes3, peak_avg, \n",
    "                                                      period,initial_vertical_stress, lab_csr)\n",
    "                    f3.tight_layout()\n",
    "                    Number_of_Cycle_arr[i] =Number_of_Cycle\n",
    "                    CSR_arr[i] =CSR\n",
    "                    \n",
    "\n",
    "                else:\n",
    "                    max_strain = max(shear_strain)\n",
    "                    diff_arr3 = abs(abs(shear_strain) - max_strain)\n",
    "                    index_min3 = diff_arr3.argmin()\n",
    "                    \n",
    "                    shear_strain = data[2:index_min3,14]\n",
    "                    time = data[2:index_min3,0] - data[2,0]\n",
    "                    pwp = data[2:index_min3,20]\n",
    "                    shear_stress = data[2:index_min3,17]\n",
    "                    vertical_stress = data[2:index_min3,18]\n",
    "                    FVSt = vertical_stress[-1]\n",
    "                    \n",
    "                    initial_vertical_stress = vertical_stress[0] \n",
    "                    condition = (dsst['SPEC_REF']==test_chose[i])&(dsst['DSST_FSET']=='Shear.txt')\n",
    "                    description_g = dssg[(dssg['SPEC_REF']==test_chose[i])]\n",
    "                    description_t = dsst[condition]\n",
    "                    #initial and final void ratio:\n",
    "                    IVRt = float(description_t['DSST_IVR'].tolist()[0])\n",
    "                    FVRt = float(description_t['DSST_FVR'].tolist()[0])\n",
    "                    OCR = str(int(description_t['DSST_IOCR'].tolist()[0]))        \n",
    "                    lab = test_chose[i] + ';OCR='+OCR\n",
    "                    \n",
    "                    describe(test_type=test_type, test_name=test_chose[i], \n",
    "                             description_g=description_g, description_t=description_t, \n",
    "                             IVRt=IVRt)\n",
    "                    \n",
    "                    Void_Ratio_arrf[i] = FVRt\n",
    "                    Vertical_stress_arrf[i] = FVSt\n",
    "                    axes2[1,0].plot(np.log(FVSt), FVRt, '^',label=test_chose[i]+'final')\n",
    "                    axes2[1,0].set_ylim([0.7,0.85])\n",
    "                    axes2[1,0].set_xlabel('Log_Vertical Stress (kPa)', fontdict=font)\n",
    "                    axes2[1,0].set_ylabel('Void Ratio', fontdict=font)\n",
    "                    axes2[1,0].set_title('Fig3: Void Ratio vs. Log_Vertical Stress', fontdict=font)\n",
    "                    axes2[1,0].legend(bbox_to_anchor=(1, 1),prop={'size':8})\n",
    "                    axes2[1,0].grid(True)\n",
    "                    f2.tight_layout()\n",
    "                    \n",
    "                    axes2[1,1].plot(shear_strain, pwp, linewidth=1, label=lab)\n",
    "                    axes2[1,1].set_xlim([0,20])\n",
    "                    axes2[1,1].set_xlabel('Shear Strain (%)', fontdict=font)\n",
    "                    axes2[1,1].set_ylabel('Equiv. Pore Water Pressure (kPa)', fontdict=font)\n",
    "                    axes2[1,1].set_title('Fig4: Pore Water Pressure vs. Time', fontdict=font)\n",
    "                    #axes2[1,1].legend(bbox_to_anchor=(1, 1),prop={'size':8})\n",
    "                    axes2[1,1].grid(True)\n",
    "                    f2.tight_layout() \n",
    "\n",
    "                    (OCR, Su_sigma) = strength_normalize(OCR, initial_vertical_stress, shear_strain, shear_stress, \n",
    "                                                         axes3, strain_limit)\n",
    "                    f3.tight_layout()\n",
    "                    OCR_arr[i] =OCR\n",
    "                    Su_arr[i] =Su_sigma\n",
    "                    \n",
    "                    pd.options.display.max_colwidth = 100\n",
    "                    \n",
    "                axes1[0].plot(time, shear_stress, linewidth=1, label=lab)\n",
    "                #axes1[0].plot(time, driving, '--', color = '0.75')\n",
    "                axes1[0].set_xlabel('Time (s)', fontdict=font)\n",
    "                axes1[0].set_ylabel('Shear Stress (kPa)', fontdict=font)\n",
    "                axes1[0].set_title('Fig1: Shear Stress vs. Time', fontdict=font)\n",
    "                axes1[0].xaxis.set_major_formatter(formatter)\n",
    "                #axes1[0].legend(bbox_to_anchor=(1, 1),prop={'size':8})\n",
    "                axes1[0].grid(True)\n",
    "                f1.tight_layout()\n",
    "\n",
    "                axes1[1].plot(time, shear_strain, linewidth=1, label=lab);\n",
    "                axes1[1].set_xlabel('Time (s)', fontdict=font)\n",
    "                axes1[1].set_ylabel('Shear Strain (%)', fontdict=font)\n",
    "                axes1[1].set_title('Fig2: Shear Strain vs. Time', fontdict=font)\n",
    "                axes1[1].xaxis.set_major_formatter(formatter)\n",
    "                #axes1[1].legend(bbox_to_anchor=(1, 1),prop={'size':8})\n",
    "                axes1[1].grid(True)\n",
    "                f1.tight_layout()\n",
    "\n",
    "                axes1[2].plot(time, pwp, linewidth=1, label=lab);\n",
    "                axes1[2].set_xlabel('Time (s)', fontdict=font)\n",
    "                axes1[2].set_ylabel('Equiv. Pore Water Pressure (kPa)', fontdict=font)\n",
    "                axes1[2].set_title('Fig3: Pore Water Pressure vs. Time', fontdict=font)\n",
    "                axes1[2].legend(loc='lower right',prop={'size':8})\n",
    "                axes1[2].xaxis.set_major_formatter(formatter)\n",
    "                axes1[2].grid(True)\n",
    "                f1.tight_layout()\n",
    "                \n",
    "\n",
    "                axes2[0,0].plot(vertical_stress, shear_stress, linewidth=1, label=lab);\n",
    "                axes2[0,0].set_xlabel('Vertical Effective Stress (kPa)', fontdict=font)\n",
    "                axes2[0,0].set_ylabel('Shear Stress (kPa)', fontdict=font)\n",
    "                axes2[0,0].set_title('Fig1: Shear Stress vs. Vertical Effective Stress', fontdict=font)\n",
    "                axes2[0,0].grid(True)\n",
    "                f2.tight_layout()\n",
    "\n",
    "                axes2[0,1].plot(shear_strain, shear_stress, linewidth=1, label=lab);\n",
    "                if test_type != 'Cyclic':\n",
    "                    axes2[0,1].set_xlim([0,20])\n",
    "                    axes2[0,1].legend(loc='lower right',prop={'size':8})\n",
    "                else:\n",
    "                    axes2[0,1].legend(loc='upper left',prop={'size':8})\n",
    "                axes2[0,1].set_xlabel('Shear Strain (%)', fontdict=font)\n",
    "                axes2[0,1].set_ylabel('Shear stress (kPa)', fontdict=font)\n",
    "                axes2[0,1].set_title('Fig2: Shear Stress vs. Shear Strain', fontdict=font) \n",
    "                axes2[0,1].grid(True)\n",
    "                f2.tight_layout()\n",
    "                \n",
    "            #####################################\n",
    "            if (stage == 'Shear')&(L>=2)&(test_type == 'Cyclic'):\n",
    "                (a,b)=fit_powerlaw(Number_of_Cycle_arr, CSR_arr, axes3)\n",
    "                a = round(float(a),3)\n",
    "                b = round(float(b),3)\n",
    "                axes3.text(2,0.15, r'${CRR = %.1f*N^{%.1f}}$' %(a,b),fontsize=12)\n",
    "            \n",
    "            if (stage == 'Shear')&(L>=2)&(test_type != 'Cyclic'):\n",
    "                (gamma, labda, rsquared) = fit_csl(Vertical_stress_arrf, Void_Ratio_arrf, axes2[1,0])\n",
    "                axes2[1,0].text(0.25,0.5,r'$CSL: e_c=%.2f%.2f*log(\\sigma_v)$' %(gamma, labda),\n",
    "                                fontsize=12,transform=axes2[1,0].transAxes)\n",
    "                \n",
    "                (S,m)=fit_powerlaw(OCR_arr, Su_arr, axes3)\n",
    "                axes3.text(0.5,0.5,r'$\\frac{S_u}{\\sigma_v}=%4.2f * OCR^{%4.2f}$' %(S, m),fontsize=12, \n",
    "                             horizontalalignment='center',\n",
    "                             verticalalignment='center',\n",
    "                            transform=axes3.transAxes)\n",
    "\n",
    "                f2.tight_layout()   \n",
    "                "
   ]
  },
  {
   "cell_type": "code",
   "execution_count": 26,
   "metadata": {},
   "outputs": [
    {
     "data": {
      "application/vnd.jupyter.widget-view+json": {
       "model_id": "df69bb72c1db47c48666b8c37cd791e1"
      }
     },
     "metadata": {},
     "output_type": "display_data"
    },
    {
     "data": {
      "application/vnd.jupyter.widget-view+json": {
       "model_id": "e094d87e5c7f4269a96b88c29f9e1060"
      }
     },
     "metadata": {},
     "output_type": "display_data"
    },
    {
     "data": {
      "application/vnd.jupyter.widget-view+json": {
       "model_id": "5766e833b9514e78ad8760d60df8e434"
      }
     },
     "metadata": {},
     "output_type": "display_data"
    }
   ],
   "source": [
    "def on_test_type_change(*args):\n",
    "    ##### Update Test Cases#####\n",
    "    # Get all files in the current directory\n",
    "    files = os.listdir(dir_root)\n",
    "    test_type = radio_btn_test_type.value\n",
    "    # get test dir per test type\n",
    "    test_dir = get_test_dir(test_type)\n",
    "        \n",
    "    files = os.listdir(test_dir)\n",
    "    test = [f for f in files if not f.startswith(\".\")]   \n",
    "        \n",
    "    seclect_multi_test.options = test\n",
    "    \n",
    "    ##### Update Text Area ########\n",
    "    ta.value = get_descriptions(dssg = dssg, \n",
    "                                test = seclect_multi_test.options, test_type= radio_btn_test_type.value)\n",
    "    \n",
    "    \n",
    "def update_plot(*args):\n",
    "    clear_output()\n",
    "    plt.close(\"all\")\n",
    "    plot_all(stage = radio_btn_stage.value, test_type = radio_btn_test_type.value, \n",
    "            seclect_multi_test = seclect_multi_test.value)\n",
    "    \n",
    "def on_slider_change(*args):\n",
    "    if (radio_btn_stage.value == \"Shear\") & (radio_btn_test_type.value == \"Cyclic\"):        \n",
    "        update_plot(*args)\n",
    "    if (radio_btn_stage.value == \"Shear\") & (radio_btn_test_type.value == \"Monotonic\"):  \n",
    "        update_plot(*args)\n",
    "\n",
    "files = os.listdir(get_test_dir(radio_btn_test_type.value))\n",
    "test = [f for f in files if not f.startswith(\".\")]\n",
    "\n",
    "seclect_multi_test.options = test\n",
    "# add test_type observer\n",
    "radio_btn_test_type.observe(on_test_type_change, names=\"value\")\n",
    "seclect_multi_test.observe(update_plot, names=\"value\")\n",
    "radio_btn_stage.observe(update_plot, names=\"value\")\n",
    "# update plot when slider changes and filter is matched \n",
    "slider_param.observe(on_slider_change, names=\"value\")\n",
    "\n",
    "hbox_param_major = widgets.HBox([radio_btn_test_type, radio_btn_stage, slider_param], \n",
    "    layout = Layout(display='flex',flex_flow='row', border='solid 1px',align_items='stretch', width='100%',height=\"50%\"))\n",
    "\n",
    "vbox_test = widgets.VBox([seclect_multi_test], \n",
    "    layout = Layout(overflow_y = \"scroll\", display='flex',flex_flow='row', border='solid 1px',\n",
    "                    align_items='stretch', width=\"50%\")) \n",
    "hbox_main =widgets.HBox([vbox_test, ta],\n",
    "    layout = Layout(display='flex',flex_flow='row',align_items='stretch', width='100%',height=\"70%\"))\n",
    "\n",
    "hbox_save_fig = widgets.HBox([text_fig_name, btn_save_figure],\n",
    "          layout = Layout(display='flex',flex_flow='row', border='solid 1px',align_items='stretch', width='100%',height=\"30%\"))                   \n",
    "\n",
    "display(hbox_param_major)\n",
    "display(hbox_main)\n",
    "display(hbox_save_fig)\n",
    "\n"
   ]
  },
  {
   "cell_type": "code",
   "execution_count": null,
   "metadata": {
    "collapsed": true
   },
   "outputs": [],
   "source": []
  }
 ],
 "metadata": {
  "anaconda-cloud": {},
  "kernelspec": {
   "display_name": "Python 3",
   "language": "python",
   "name": "python3"
  },
  "language_info": {
   "codemirror_mode": {
    "name": "ipython",
    "version": 3
   },
   "file_extension": ".py",
   "mimetype": "text/x-python",
   "name": "python",
   "nbconvert_exporter": "python",
   "pygments_lexer": "ipython3",
   "version": "3.6.1"
  },
  "widgets": {
   "state": {
    "10ac3707b0d44d8d9d824c5e6f050b7c": {
     "views": [
      {
       "cell_index": 14
      }
     ]
    },
    "1783d82a75584f7e9c92d4f1dcfb655c": {
     "views": [
      {
       "cell_index": 14
      }
     ]
    },
    "2662cea3b5424264880511a2a4f7a3fb": {
     "views": [
      {
       "cell_index": 13
      }
     ]
    },
    "2934371a60de42e4978f51ba7818390d": {
     "views": [
      {
       "cell_index": 13
      }
     ]
    },
    "2f130203dbbc447880a5dddfc1c1f00d": {
     "views": [
      {
       "cell_index": 14
      }
     ]
    },
    "57488db0359f4b6588ed74358df85b47": {
     "views": [
      {
       "cell_index": 14
      }
     ]
    },
    "59444391b51b4741a836740c8690f2bc": {
     "views": [
      {
       "cell_index": 14
      }
     ]
    },
    "8a41b498b57442b597899effe7fda10f": {
     "views": [
      {
       "cell_index": 14
      }
     ]
    },
    "97302b101eb84029b892f518a451bc50": {
     "views": [
      {
       "cell_index": 13
      }
     ]
    },
    "9bbbe79fd0584f11be0422ef58ebfb13": {
     "views": [
      {
       "cell_index": 14
      }
     ]
    },
    "a67c3561bfd04409b992c9c985a629f7": {
     "views": [
      {
       "cell_index": 13
      }
     ]
    },
    "b3693eb2e45a42b69cf8b620eae9d574": {
     "views": [
      {
       "cell_index": 14
      }
     ]
    },
    "b44c1b79a6f647d28176bf557b82e558": {
     "views": [
      {
       "cell_index": 13
      }
     ]
    },
    "b9863fc9a7c94ca0b5e7510f9b39cfdc": {
     "views": [
      {
       "cell_index": 14
      }
     ]
    },
    "cab54ca2edc041e0934d2e2224b7e0b7": {
     "views": [
      {
       "cell_index": 14
      }
     ]
    },
    "d52f0bddc0c34dffb4abd0b1d3ca17e9": {
     "views": [
      {
       "cell_index": 13
      }
     ]
    },
    "de63a7ae4de64aa9b3ca5ca13acdce2b": {
     "views": [
      {
       "cell_index": 14
      }
     ]
    },
    "de8befea33db411191e8fd4bf821f940": {
     "views": [
      {
       "cell_index": 14
      }
     ]
    },
    "e3dace81098d4ff9a833474abd136134": {
     "views": [
      {
       "cell_index": 14
      }
     ]
    }
   },
   "version": "1.2.0"
  }
 },
 "nbformat": 4,
 "nbformat_minor": 1
}
