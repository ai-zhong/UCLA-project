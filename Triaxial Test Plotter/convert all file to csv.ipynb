{
 "cells": [
  {
   "cell_type": "code",
   "execution_count": 22,
   "metadata": {
    "collapsed": true
   },
   "outputs": [],
   "source": [
    "import pandas as pd\n",
    "name1 = [\n",
    "    'EM1_BM','EM2_BM','EM3_BM','EM4_BM','EM5_BM','EM6_BM','EM7_BM',\n",
    "    'EM1_YM','EM2_YM','EM3_YM','EM4_YM','EM5_YM','EM6_YM','EM7_YM',\n",
    "    'EM1_C','EM2_C','EM3_C','EM4_C','EM5_C','EM6_C','EM7_C',\n",
    "]\n",
    "\n",
    "name2 = [\n",
    "    'G7_100S','G7_150S','G7_200S','G7_250S','G7_300S','G7_350S','G7_400S',\n",
    "    'G7_100C','G7_150C','G7_200C','G7_250C','G7_300C','G7_350C','G7_400C'\n",
    "]\n",
    "\n",
    "for name in name2:\n",
    "    data_xls = pd.read_excel(name+'.xlsx', 'Sheet1', index_col=None)\n",
    "    data_xls.to_csv(name+'.csv', encoding='utf-8')"
   ]
  },
  {
   "cell_type": "code",
   "execution_count": 2,
   "metadata": {},
   "outputs": [],
   "source": [
    "import pandas as pd\n",
    "data_xls = pd.read_excel('Initial Void ratios.xlsx', 'Sheet1', index_col=None)\n",
    "data_xls.to_csv('Initial Void ratios.csv', encoding='utf-8')"
   ]
  }
 ],
 "metadata": {
  "kernelspec": {
   "display_name": "Python 3",
   "language": "python",
   "name": "python3"
  },
  "language_info": {
   "codemirror_mode": {
    "name": "ipython",
    "version": 3
   },
   "file_extension": ".py",
   "mimetype": "text/x-python",
   "name": "python",
   "nbconvert_exporter": "python",
   "pygments_lexer": "ipython3",
   "version": "3.6.1"
  }
 },
 "nbformat": 4,
 "nbformat_minor": 2
}
