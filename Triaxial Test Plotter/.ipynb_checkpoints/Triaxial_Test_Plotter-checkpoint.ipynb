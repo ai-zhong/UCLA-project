{
 "cells": [
  {
   "cell_type": "code",
   "execution_count": 278,
   "metadata": {},
   "outputs": [
    {
     "data": {
      "text/html": [
       "<script>\n",
       "code_show=true; \n",
       "function code_toggle() {\n",
       " if (code_show){\n",
       " $('div.input').hide();\n",
       " } else {\n",
       " $('div.input').show();\n",
       " }\n",
       " code_show = !code_show\n",
       "} \n",
       "$( document ).ready(code_toggle);\n",
       "</script>\n",
       "The raw code for this IPython notebook is by default hidden for easier reading.\n",
       "To toggle on/off the raw code, click <a href=\"javascript:code_toggle()\">here</a>."
      ],
      "text/plain": [
       "<IPython.core.display.HTML object>"
      ]
     },
     "execution_count": 278,
     "metadata": {},
     "output_type": "execute_result"
    }
   ],
   "source": [
    "from IPython.display import HTML\n",
    "\n",
    "HTML('''<script>\n",
    "code_show=true; \n",
    "function code_toggle() {\n",
    " if (code_show){\n",
    " $('div.input').hide();\n",
    " } else {\n",
    " $('div.input').show();\n",
    " }\n",
    " code_show = !code_show\n",
    "} \n",
    "$( document ).ready(code_toggle);\n",
    "</script>\n",
    "The raw code for this IPython notebook is by default hidden for easier reading.\n",
    "To toggle on/off the raw code, click <a href=\"javascript:code_toggle()\">here</a>.''')"
   ]
  },
  {
   "cell_type": "markdown",
   "metadata": {},
   "source": [
    "### Explanary Notes:\n",
    "\n",
    "This is a plotter for results plotting of Monotonic Shear Experiments & Elastic Moduli Experiments. \n",
    "<br>\n",
    "File name conventions are as explained below: <br>\n",
    "E.g.: MS_100C <br>\n",
    "1) MS: Monotonic Shear <br>\n",
    "2) 100: Applied Vertical Effective Stress <br>\n",
    "3) C or S: Consolidation or Shear <br>\n",
    "<br>\n",
    "E.g.: EM1_C_100 <br>\n",
    "1) EM1: Elastic modulus, Stage 1 <br>\n",
    "2) C/BM/YM: Consolidation/Bulk Modulus/Young's Modulus <br>\n",
    "3) 100: Applied Vertical Effective Stress <br>\n"
   ]
  },
  {
   "cell_type": "code",
   "execution_count": 279,
   "metadata": {},
   "outputs": [
    {
     "data": {
      "application/javascript": [
       "IPython.OutputArea.auto_scroll_threshold = 9999;"
      ],
      "text/plain": [
       "<IPython.core.display.Javascript object>"
      ]
     },
     "metadata": {},
     "output_type": "display_data"
    }
   ],
   "source": [
    "%%javascript\n",
    "IPython.OutputArea.auto_scroll_threshold = 9999;"
   ]
  },
  {
   "cell_type": "code",
   "execution_count": 280,
   "metadata": {
    "collapsed": true
   },
   "outputs": [],
   "source": [
    "%matplotlib notebook\n",
    "%config InlineBackend.figure_format='retina'\n",
    "import matplotlib.pyplot as plt\n",
    "import matplotlib.backends.backend_pdf\n",
    "import numpy as np\n",
    "import pandas as pd\n",
    "from ipywidgets import *\n",
    "from IPython.display import display\n",
    "from IPython.display import clear_output\n",
    "from matplotlib import rc\n",
    "from matplotlib import ticker\n",
    "import os\n",
    "\n",
    "matplotlib.rcParams.update({'font.family': 'STIXGeneral', 'mathtext.fontset': 'stix'})"
   ]
  },
  {
   "cell_type": "code",
   "execution_count": 281,
   "metadata": {
    "collapsed": true
   },
   "outputs": [],
   "source": [
    "def on_test_type_change(*args):\n",
    "    test_type = radio_btn_test_type.value    \n",
    "    if radio_btn_test_type.value == 'Elastic Moduli':\n",
    "        seclected_test.options = test_EM\n",
    "    else:\n",
    "        seclected_test.options = test_MS\n",
    "        \n",
    "def update_plot(*args):\n",
    "    clear_output()\n",
    "    plt.close(\"all\")\n",
    "    plot_all(test_type = radio_btn_test_type.value, seclected_test = seclected_test.value)"
   ]
  },
  {
   "cell_type": "code",
   "execution_count": 282,
   "metadata": {
    "collapsed": true
   },
   "outputs": [],
   "source": [
    "# reading initial void ratio information from csv\n",
    "initial_void_ratio = pd.read_csv(\"Initial Void ratios.csv\")\n",
    "initial_void_ratio.columns = ['','test at p','e_initial']\n",
    "all_vertical_stress = initial_void_ratio.loc[:,'test at p'].tolist()\n",
    "all_e_initial = initial_void_ratio.loc[:,'e_initial'].tolist()\n",
    "avg_e = round(float(np.average(all_e_initial)), 3)"
   ]
  },
  {
   "cell_type": "code",
   "execution_count": 283,
   "metadata": {},
   "outputs": [],
   "source": [
    "# Reading file names wrt categories\n",
    "# not reading all test files here, \n",
    "# reading based on only EM and MS, future added new name needs edition\n",
    "dir_root = os.getcwd()\n",
    "files = os.listdir(dir_root)\n",
    "\n",
    "# get unique value for EM test cases\n",
    "original_EM = [f for f in files if f.startswith(\"EM\")]\n",
    "original_MS = [f for f in files if f.startswith(\"MS\")]\n",
    "\n",
    "new_EM = []\n",
    "for i in range(0,len(original_EM)):\n",
    "    new_EM.append(original_EM[i].split('_')[0])\n",
    "test_EM = sorted(list(set(new_EM)))\n",
    "test_MS = []\n",
    "for i in range(0,len(original_MS)):\n",
    "    test_MS.append(original_MS[i].split('.')[0])\n",
    "\n",
    "p_max = int(test_MS[-1].split('_')[1][:3])\n"
   ]
  },
  {
   "cell_type": "code",
   "execution_count": 284,
   "metadata": {},
   "outputs": [],
   "source": [
    "##### find void ratio values for EM cases and sort files into dictionary #####\n",
    "# number of stage\n",
    "no_stage = len(test_EM)\n",
    "# group all files by category\n",
    "consolidation = []\n",
    "bulk_modu = []\n",
    "youngs_modu = []\n",
    "for i in range(len(original_EM)):\n",
    "    if 'C' in original_EM[i]:\n",
    "        consolidation.append(original_EM[i])\n",
    "    if 'BM' in original_EM[i]:\n",
    "        bulk_modu.append(original_EM[i])\n",
    "    if 'YM' in original_EM[i]:\n",
    "        youngs_modu.append(original_EM[i])   \n",
    "\n",
    "# prepare dictionary for all types of files\n",
    "stages = {}\n",
    "BM = {}\n",
    "YM = {}\n",
    "for i in range(no_stage):\n",
    "    key = 'stage'+str(i)\n",
    "    key_bm = 'stage_bm'+str(i)\n",
    "    key_ym = 'stage_ym'+str(i)\n",
    "    stages[key] = pd.read_csv(consolidation[i])[1:].astype(float)\n",
    "    BM[key_bm] = pd.read_csv(bulk_modu[i])[1:].astype(float)\n",
    "    YM[key_ym] = pd.read_csv(youngs_modu[i])[1:].astype(float)\n",
    "\n",
    "# calculate void ratios for all stages    \n",
    "e0 = avg_e\n",
    "for key in stages:\n",
    "    stages[key]['delta_e'] = stages[key]['Ev - Volumetric Strain'][1:]/((1+e0)*100)\n",
    "    stages[key]['e_final'] = e0 - stages[key]['delta_e']\n",
    "    e0 = stages[key]['e_final'].iloc[-1]\n",
    "    "
   ]
  },
  {
   "cell_type": "code",
   "execution_count": 285,
   "metadata": {
    "scrolled": false
   },
   "outputs": [
    {
     "data": {
      "application/vnd.jupyter.widget-view+json": {
       "model_id": "558bfd55a3e64077b4d993e5816118a0"
      }
     },
     "metadata": {},
     "output_type": "display_data"
    },
    {
     "data": {
      "application/vnd.jupyter.widget-view+json": {
       "model_id": "3e3a1a70a4ee45e3b39920e8d8e0de51"
      }
     },
     "metadata": {},
     "output_type": "display_data"
    }
   ],
   "source": [
    "def plot_all(test_type, seclected_test):\n",
    "    # set formats of layout\n",
    "    font = {'color':  'black',\n",
    "        'weight': 'normal',\n",
    "        'size': 12,\n",
    "        }\n",
    "    formatter = ticker.ScalarFormatter(useMathText=True)\n",
    "    formatter.set_scientific(True) \n",
    "    formatter.set_powerlimits((-1,1))\n",
    "    \n",
    "    # extract selected tests\n",
    "    test_chose = list(seclected_test)\n",
    "    L = len(test_chose)\n",
    "    \n",
    "    if test_type == 'General 7 Triaxial':\n",
    "        if L>0:\n",
    "            f, axes = plt.subplots(2,2,figsize=(12,10),dpi=80)\n",
    "            \n",
    "            for i in range(0,L):\n",
    "                name = test_chose[i]\n",
    "                con_or_shear = list(name)[-1]\n",
    "                vertical_stress = int(name.split('_')[-1][:3])\n",
    "                # find initial void ratio from csv\n",
    "                find_e = initial_void_ratio.loc[initial_void_ratio['test at p'] == int(vertical_stress)]\n",
    "                e_initial = find_e.loc[:,'e_initial'].tolist()[0]\n",
    "                data = pd.read_csv(name + '.csv')[1:].astype(float)\n",
    "                # create label for plots\n",
    "                label = test_chose[i]  \n",
    "                \n",
    "                if con_or_shear == 'C':\n",
    "                    # compute a new void ratio column in dataframe\n",
    "                    data['delta_e'] = data['Ev - Volumetric Strain'][1:]/((1+e_initial)*100)\n",
    "                    data['e_final'] = e_initial - data['delta_e']\n",
    "                \n",
    "                    # Start plotting\n",
    "                    axes[0,0].plot(data['Time'][1:], data['p\\' Cambridge Mohr Effective Stress'][1:],\n",
    "                                  linewidth=1, label=label)\n",
    "                    axes[0,0].set_xlabel('Time [s]',fontdict=font)\n",
    "                    axes[0,0].set_ylabel('Cambridge Mohr Effective Stress [kPa]',fontdict=font)\n",
    "                    axes[0,0].set_xlim([0,max(data['Time'][1:])+5])\n",
    "                    axes[0,0].legend(loc='best',prop={'size':10})\n",
    "                    axes[0,0].grid(True)\n",
    "                    f.tight_layout()\n",
    "                    \n",
    "                    axes[1,0].plot(data['Time'][1:], data['Ev - Volumetric Strain'][1:],\n",
    "                                  linewidth=1)\n",
    "                    axes[1,0].set_xlabel('Time [s]',fontdict=font)\n",
    "                    axes[1,0].set_ylabel('Ev - Volumetric Strain [%]',fontdict=font)\n",
    "                    axes[1,0].set_xlim([0,max(data['Time'][1:])+5])\n",
    "                    axes[1,0].grid(True)\n",
    "                    f.tight_layout()\n",
    "                    \n",
    "                    axes[0,1].plot(data['p\\' Cambridge Mohr Effective Stress'][1:], data['e_final'][1:],\n",
    "                                  linewidth=1)\n",
    "                    axes[0,1].set_xlabel('Cambridge Mohr Effective Stress [kPa]',fontdict=font)\n",
    "                    axes[0,1].set_ylabel('Void Ratio',fontdict=font)\n",
    "                    axes[0,1].yaxis.set_major_formatter(formatter)\n",
    "                    axes[0,1].grid(True)\n",
    "                    f.tight_layout()\n",
    "                    \n",
    "                    axes[1,1].axis('off')\n",
    "                \n",
    "                if con_or_shear == 'S':\n",
    "                    # get initial void ratio for shear stage\n",
    "                    name_for_e = 'C'.join(name.rsplit('S',1))\n",
    "                    data_for_e = pd.read_csv(name_for_e + '.csv')[1:].astype(float)\n",
    "                    data_for_e['delta_e'] = data_for_e['Ev - Volumetric Strain'][1:]/((1+e_initial)*100)\n",
    "                    data_for_e['e_final'] = e_initial - data_for_e['delta_e']\n",
    "                    e_initial_shear = data_for_e['e_final'].iloc[-1]\n",
    "                    \n",
    "                    # compute a new void ratio column in dataframe\n",
    "                    data['delta_e'] = data['Ev - Volumetric Strain'][1:]/((1+e_initial_shear)*100)\n",
    "                    data['e_final'] = e_initial_shear - data['delta_e']\n",
    "                    \n",
    "                    # Start plotting\n",
    "                    axes[0,0].plot(data['p\\' Cambridge Mohr Effective Stress'][1:], data['Sd - Deviator Stress'][1:],\n",
    "                                   linewidth=1, label=label)\n",
    "                    axes[0,0].set_xlabel('Mean Effective Stress, p\\'[kPa]',fontdict=font)\n",
    "                    axes[0,0].set_ylabel('Deviatoric Stress, q [kPa]',fontdict=font)\n",
    "                    axes[0,0].legend(loc='best',prop={'size':10}) \n",
    "                    axes[0,0].set_xlim([0,p_max+50])\n",
    "                    axes[0,0].set_ylim([0,max(data['Sd - Deviator Stress'][1:])+50])\n",
    "                    axes[0,0].grid(True)\n",
    "                    f.tight_layout()\n",
    "                    \n",
    "                    axes[0,1].plot(data['Ea - Axial Strain'][1:], data['Sd - Deviator Stress'][1:], \n",
    "                                  linewidth=1, label=label)\n",
    "                    axes[0,1].set_xlabel('Axial strain [%]',fontdict=font)\n",
    "                    axes[0,1].set_ylabel('Deviatoric Stress, q [kPa]',fontdict=font)\n",
    "                    axes[0,1].set_xlim([0,max(data['Ea - Axial Strain'][1:])+0.5])\n",
    "                    axes[0,1].set_ylim([0,max(data['Sd - Deviator Stress'][1:])+50])\n",
    "                    axes[0,1].grid(True)\n",
    "                    f.tight_layout()\n",
    "                    \n",
    "                    axes[1,0].plot(data['p\\' Cambridge Mohr Effective Stress'][1:], data['e_final'][1:],\n",
    "                                  linewidth=1, label=label)\n",
    "                    axes[1,0].set_xlabel('Mean Effective Stress, p\\'[kPa]',fontdict=font)\n",
    "                    axes[1,0].set_ylabel('Void Ratio',fontdict=font)\n",
    "                    axes[1,0].set_xlim([0,p_max+50])\n",
    "                    axes[1,0].set_ylim([min(data['e_final'][1:])-0.01,max(data['e_final'][1:])+0.01])\n",
    "                    axes[1,0].yaxis.set_major_formatter(formatter)\n",
    "                    axes[1,0].grid(True)\n",
    "                    f.tight_layout()\n",
    "                    \n",
    "                    axes[1,1].plot(data['Ea - Axial Strain'][1:], data['e_final'][1:],\n",
    "                                  linewidth=1, label=label)\n",
    "                    axes[1,1].set_xlabel('Axial strain [%]',fontdict=font)\n",
    "                    axes[1,1].set_ylabel('Void Ratio',fontdict=font)\n",
    "                    axes[1,1].set_xlim([0,max(data['Ea - Axial Strain'][1:])+0.5])\n",
    "                    axes[1,1].set_ylim([min(data['e_final'][1:])-0.01,max(data['e_final'][1:])+0.01])\n",
    "                    axes[1,1].yaxis.set_major_formatter(formatter)\n",
    "                    axes[1,1].grid(True)\n",
    "                    f.tight_layout()\n",
    "    \n",
    "    if test_type == 'Elastic Moduli':\n",
    "        if L>0:\n",
    "            f, axes = plt.subplots(2,2,figsize=(10,10),dpi=80)\n",
    "            \n",
    "            for i in range(0,L):\n",
    "                name = test_chose[i]\n",
    "                number = list(name)[-1]\n",
    "                key = 'stage' + str(int(number)-1)\n",
    "                key_bm = 'stage_bm' + str(int(number)-1)\n",
    "                key_ym = 'stage_ym' + str(int(number)-1)\n",
    "                consolidation = stages[key]\n",
    "                bulk_modulus = BM[key_bm]\n",
    "                youngs_modulus = YM[key_ym]\n",
    "                label = 'Stage ' + number\n",
    "                \n",
    "                # Start plotting\n",
    "                axes[0,0].plot(consolidation['p\\' Cambridge Mohr Effective Stress'][1:], consolidation['e_final'][1:],\n",
    "                              linewidth=1, label=label)\n",
    "                axes[0,0].set_xlabel('Mean effective stress [kPa]',fontdict=font)\n",
    "                axes[0,0].set_ylabel('Void ratio, e',fontdict=font)\n",
    "                axes[0,0].set_title('CONSOLIDATION',fontdict=font)\n",
    "                axes[0,0].yaxis.set_major_formatter(formatter)\n",
    "                axes[0,0].legend(loc='best',prop={'size':10})\n",
    "                axes[0,0].grid(True)\n",
    "                f.tight_layout()\n",
    "\n",
    "                axes[0,1].plot(bulk_modulus['Ev - Volumetric Strain'][1:], \n",
    "                               bulk_modulus['p\\' Cambridge Mohr Effective Stress'][1:],\n",
    "                              linewidth=1, label=label)\n",
    "                axes[0,1].set_xlabel('Volumetric strain [%]',fontdict=font)\n",
    "                axes[0,1].set_ylabel('Mean effective stress [kPa]',fontdict=font)\n",
    "                axes[0,1].set_title('BULK MODULUS',fontdict=font)\n",
    "                axes[0,1].grid(True)\n",
    "                f.tight_layout()\n",
    "                \n",
    "                axes[1,0].plot(youngs_modulus['Ea - Axial Strain'][1:], youngs_modulus['Sd - Deviator Stress'][1:],\n",
    "                              linewidth=1, label=label)\n",
    "                axes[1,0].set_xlabel('Axial strain [%]',fontdict=font)\n",
    "                axes[1,0].set_ylabel('Deviator stress [kPa]',fontdict=font)\n",
    "                axes[1,0].set_title('YOUNG\\'S MODULUS',fontdict=font)\n",
    "                axes[1,0].xaxis.set_major_formatter(formatter)\n",
    "                axes[1,0].grid(True)\n",
    "                f.tight_layout()\n",
    "\n",
    "                axes[1,1].axis('off')\n",
    "                \n",
    "# Initiate widgets                \n",
    "radio_btn_test_type = widgets.RadioButtons(options=['General 7 Triaxial','Elastic Moduli'],\n",
    "                             description='Test Type',variable=[True,False])\n",
    "\n",
    "seclected_test = widgets.SelectMultiple(description=\"Test Cases\", options= [])\n",
    "\n",
    "# set a default value for selected test\n",
    "seclected_test.options = test_MS\n",
    "radio_btn_test_type.observe(on_test_type_change, names=\"value\")\n",
    "seclected_test.observe(update_plot, names=\"value\")\n",
    "\n",
    "hbox_param_major = widgets.HBox([radio_btn_test_type],\n",
    "                                layout = Layout(display='flex',flex_flow='row',\n",
    "                                                align_items='stretch', width='100%',height=\"50%\"))\n",
    "\n",
    "vbox_test = widgets.VBox([seclected_test],\n",
    "                         layout = Layout(overflow_y = \"scroll\", display='flex',flex_flow='row', \n",
    "                                         align_items='stretch', width=\"50%\")) \n",
    "\n",
    "display(hbox_param_major)\n",
    "display(vbox_test)"
   ]
  },
  {
   "cell_type": "code",
   "execution_count": null,
   "metadata": {},
   "outputs": [],
   "source": []
  }
 ],
 "metadata": {
  "kernelspec": {
   "display_name": "Python 3",
   "language": "python",
   "name": "python3"
  },
  "language_info": {
   "codemirror_mode": {
    "name": "ipython",
    "version": 3
   },
   "file_extension": ".py",
   "mimetype": "text/x-python",
   "name": "python",
   "nbconvert_exporter": "python",
   "pygments_lexer": "ipython3",
   "version": "3.6.1"
  }
 },
 "nbformat": 4,
 "nbformat_minor": 2
}
