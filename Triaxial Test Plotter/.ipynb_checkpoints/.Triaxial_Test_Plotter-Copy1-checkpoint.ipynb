{
 "cells": [
  {
   "cell_type": "code",
   "execution_count": 90,
   "metadata": {},
   "outputs": [
    {
     "data": {
      "application/javascript": [
       "IPython.OutputArea.auto_scroll_threshold = 9999;"
      ],
      "text/plain": [
       "<IPython.core.display.Javascript object>"
      ]
     },
     "metadata": {},
     "output_type": "display_data"
    }
   ],
   "source": [
    "%%javascript\n",
    "IPython.OutputArea.auto_scroll_threshold = 9999;"
   ]
  },
  {
   "cell_type": "code",
   "execution_count": 91,
   "metadata": {
    "collapsed": true
   },
   "outputs": [],
   "source": [
    "%matplotlib notebook\n",
    "%config InlineBackend.figure_format='retina'\n",
    "import matplotlib.pyplot as plt\n",
    "import matplotlib.backends.backend_pdf\n",
    "import numpy as np\n",
    "import pandas as pd\n",
    "from ipywidgets import *\n",
    "from IPython.display import display\n",
    "from IPython.display import clear_output\n",
    "from matplotlib import rc\n",
    "from matplotlib import ticker\n",
    "import os\n",
    "\n"
   ]
  },
  {
   "cell_type": "code",
   "execution_count": 92,
   "metadata": {
    "collapsed": true
   },
   "outputs": [],
   "source": [
    "data=pd.read_excel(\"EM1_C.xlsx\")\n",
    "initial_void_ratio = pd.read_excel(\"Initial Void ratios.xlsx\")"
   ]
  },
  {
   "cell_type": "code",
   "execution_count": 94,
   "metadata": {},
   "outputs": [
    {
     "data": {
      "text/plain": [
       "['EM1_BM.csv',\n",
       " 'EM1_BM.xlsx',\n",
       " 'EM1_C.csv',\n",
       " 'EM1_C.xlsx',\n",
       " 'EM1_YM.csv',\n",
       " 'EM1_YM.xlsx',\n",
       " 'EM2_BM.csv',\n",
       " 'EM2_BM.xlsx',\n",
       " 'EM2_C.csv',\n",
       " 'EM2_C.xlsx',\n",
       " 'EM2_YM.csv',\n",
       " 'EM2_YM.xlsx',\n",
       " 'EM3_BM.csv',\n",
       " 'EM3_BM.xlsx',\n",
       " 'EM3_C.csv',\n",
       " 'EM3_C.xlsx',\n",
       " 'EM3_YM.csv',\n",
       " 'EM3_YM.xlsx',\n",
       " 'EM4_BM.csv',\n",
       " 'EM4_BM.xlsx',\n",
       " 'EM4_C.csv',\n",
       " 'EM4_C.xlsx',\n",
       " 'EM4_YM.csv',\n",
       " 'EM4_YM.xlsx',\n",
       " 'EM5_BM.csv',\n",
       " 'EM5_BM.xlsx',\n",
       " 'EM5_C.csv',\n",
       " 'EM5_C.xlsx',\n",
       " 'EM5_YM.csv',\n",
       " 'EM5_YM.xlsx',\n",
       " 'EM6_BM.csv',\n",
       " 'EM6_BM.xlsx',\n",
       " 'EM6_C.csv',\n",
       " 'EM6_C.xlsx',\n",
       " 'EM6_YM.csv',\n",
       " 'EM6_YM.xlsx',\n",
       " 'EM7_BM.csv',\n",
       " 'EM7_BM.xlsx',\n",
       " 'EM7_C.csv',\n",
       " 'EM7_C.xlsx',\n",
       " 'EM7_YM.csv',\n",
       " 'EM7_YM.xlsx',\n",
       " 'G7_100C.xlsx',\n",
       " 'G7_100S.xlsx',\n",
       " 'G7_150C.xlsx',\n",
       " 'G7_150S.xlsx',\n",
       " 'G7_200C.xlsx',\n",
       " 'G7_200S.xlsx',\n",
       " 'G7_250C.xlsx',\n",
       " 'G7_250S.xlsx',\n",
       " 'G7_300C.xlsx',\n",
       " 'G7_300S.xlsx',\n",
       " 'G7_350C.xlsx',\n",
       " 'G7_350S.xlsx',\n",
       " 'G7_400C.xlsx',\n",
       " 'G7_400S.xlsx',\n",
       " 'Initial Void ratios.csv',\n",
       " 'Initial Void ratios.xlsx']"
      ]
     },
     "execution_count": 94,
     "metadata": {},
     "output_type": "execute_result"
    }
   ],
   "source": [
    "dir_root = os.getcwd()\n",
    "files = os.listdir(dir_root)\n",
    "files\n",
    "test = [f for f in files if not f.startswith(\".\")]\n",
    "test"
   ]
  },
  {
   "cell_type": "code",
   "execution_count": null,
   "metadata": {
    "collapsed": true
   },
   "outputs": [],
   "source": []
  }
 ],
 "metadata": {
  "kernelspec": {
   "display_name": "Python 3",
   "language": "python",
   "name": "python3"
  },
  "language_info": {
   "codemirror_mode": {
    "name": "ipython",
    "version": 3
   },
   "file_extension": ".py",
   "mimetype": "text/x-python",
   "name": "python",
   "nbconvert_exporter": "python",
   "pygments_lexer": "ipython3",
   "version": "3.6.1"
  }
 },
 "nbformat": 4,
 "nbformat_minor": 2
}
